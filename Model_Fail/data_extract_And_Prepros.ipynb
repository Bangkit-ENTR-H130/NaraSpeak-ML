{
 "cells": [
  {
   "cell_type": "markdown",
   "metadata": {},
   "source": [
    "# Ekstrak & Pre-proc Dataset "
   ]
  },
  {
   "cell_type": "code",
   "execution_count": 17,
   "metadata": {},
   "outputs": [],
   "source": [
    "\n",
    "import warnings\n",
    "warnings.filterwarnings(\"ignore\")\n",
    "import pandas as pd\n",
    "import re\n",
    "from tqdm.auto import tqdm\n",
    "tqdm.pandas()\n",
    "     "
   ]
  },
  {
   "cell_type": "code",
   "execution_count": 18,
   "metadata": {},
   "outputs": [],
   "source": [
    "df = pd.read_csv(r\"D:\\TEL-U\\BANGKIT!\\NARASPEAK\\DATASET\\C4_200M.tsv-00000-of-00010\", delimiter='\\t', nrows=500000)\n",
    "df.columns = [\"incorrect\", \"correct\"]"
   ]
  },
  {
   "cell_type": "code",
   "execution_count": 19,
   "metadata": {},
   "outputs": [
    {
     "data": {
      "text/html": [
       "<div>\n",
       "<style scoped>\n",
       "    .dataframe tbody tr th:only-of-type {\n",
       "        vertical-align: middle;\n",
       "    }\n",
       "\n",
       "    .dataframe tbody tr th {\n",
       "        vertical-align: top;\n",
       "    }\n",
       "\n",
       "    .dataframe thead th {\n",
       "        text-align: right;\n",
       "    }\n",
       "</style>\n",
       "<table border=\"1\" class=\"dataframe\">\n",
       "  <thead>\n",
       "    <tr style=\"text-align: right;\">\n",
       "      <th></th>\n",
       "      <th>incorrect</th>\n",
       "      <th>correct</th>\n",
       "    </tr>\n",
       "  </thead>\n",
       "  <tbody>\n",
       "    <tr>\n",
       "      <th>0</th>\n",
       "      <td>The effect of widespread dud targets two face ...</td>\n",
       "      <td>1. The effect of \"widespread dud\" targets two ...</td>\n",
       "    </tr>\n",
       "    <tr>\n",
       "      <th>1</th>\n",
       "      <td>tax on sales of stores for non residents are s...</td>\n",
       "      <td>Capital Gains tax on the sale of properties fo...</td>\n",
       "    </tr>\n",
       "    <tr>\n",
       "      <th>2</th>\n",
       "      <td>Much many brands and sellers still in the market.</td>\n",
       "      <td>Many brands and sellers still in the market.</td>\n",
       "    </tr>\n",
       "    <tr>\n",
       "      <th>3</th>\n",
       "      <td>this is is the latest Maintenance release of S...</td>\n",
       "      <td>This is is the latest maintenance release of S...</td>\n",
       "    </tr>\n",
       "    <tr>\n",
       "      <th>4</th>\n",
       "      <td>Fairy Or Not, I'm the Godmother: no just look,...</td>\n",
       "      <td>Fairy Or Not, I'm the Godmother: Not just a lo...</td>\n",
       "    </tr>\n",
       "    <tr>\n",
       "      <th>...</th>\n",
       "      <td>...</td>\n",
       "      <td>...</td>\n",
       "    </tr>\n",
       "    <tr>\n",
       "      <th>499995</th>\n",
       "      <td>If you were lucky enough to grab PAX it here i...</td>\n",
       "      <td>If you were lucky enough to grab a PAX pack he...</td>\n",
       "    </tr>\n",
       "    <tr>\n",
       "      <th>499996</th>\n",
       "      <td>This page has last edited at December 20, 2018...</td>\n",
       "      <td>This page was last edited on December 20, 2018...</td>\n",
       "    </tr>\n",
       "    <tr>\n",
       "      <th>499997</th>\n",
       "      <td>suction cup shower shelves bathroom corner sto...</td>\n",
       "      <td>suction cup shower shelves bathroom corner sto...</td>\n",
       "    </tr>\n",
       "    <tr>\n",
       "      <th>499998</th>\n",
       "      <td>W work over pass 2012 can be seen in the photo...</td>\n",
       "      <td>Woman working past 2012 can be seen in the pho...</td>\n",
       "    </tr>\n",
       "    <tr>\n",
       "      <th>499999</th>\n",
       "      <td>Learn about my family bluezigzag with from...S...</td>\n",
       "      <td>Learning about my family tree branch from...Sw...</td>\n",
       "    </tr>\n",
       "  </tbody>\n",
       "</table>\n",
       "<p>500000 rows × 2 columns</p>\n",
       "</div>"
      ],
      "text/plain": [
       "                                                incorrect  \\\n",
       "0       The effect of widespread dud targets two face ...   \n",
       "1       tax on sales of stores for non residents are s...   \n",
       "2       Much many brands and sellers still in the market.   \n",
       "3       this is is the latest Maintenance release of S...   \n",
       "4       Fairy Or Not, I'm the Godmother: no just look,...   \n",
       "...                                                   ...   \n",
       "499995  If you were lucky enough to grab PAX it here i...   \n",
       "499996  This page has last edited at December 20, 2018...   \n",
       "499997  suction cup shower shelves bathroom corner sto...   \n",
       "499998  W work over pass 2012 can be seen in the photo...   \n",
       "499999  Learn about my family bluezigzag with from...S...   \n",
       "\n",
       "                                                  correct  \n",
       "0       1. The effect of \"widespread dud\" targets two ...  \n",
       "1       Capital Gains tax on the sale of properties fo...  \n",
       "2            Many brands and sellers still in the market.  \n",
       "3       This is is the latest maintenance release of S...  \n",
       "4       Fairy Or Not, I'm the Godmother: Not just a lo...  \n",
       "...                                                   ...  \n",
       "499995  If you were lucky enough to grab a PAX pack he...  \n",
       "499996  This page was last edited on December 20, 2018...  \n",
       "499997  suction cup shower shelves bathroom corner sto...  \n",
       "499998  Woman working past 2012 can be seen in the pho...  \n",
       "499999  Learning about my family tree branch from...Sw...  \n",
       "\n",
       "[500000 rows x 2 columns]"
      ]
     },
     "execution_count": 19,
     "metadata": {},
     "output_type": "execute_result"
    }
   ],
   "source": [
    "df"
   ]
  },
  {
   "cell_type": "code",
   "execution_count": 20,
   "metadata": {},
   "outputs": [],
   "source": [
    "# Adding length features\n",
    "\n",
    "\n",
    "df['correct_char_count'] = df['correct'].astype('str').apply(lambda x:len(x))\n",
    "df['incorrect_char_count'] = df['incorrect'].astype('str').apply(lambda x:len(x))\n",
    "\n",
    "df['correct_word_count'] = df['correct'].astype('str').apply(lambda x:len(x.split()))\n",
    "df['incorrect_word_count'] = df['incorrect'].astype('str').apply(lambda x:len(x.split()))"
   ]
  },
  {
   "cell_type": "code",
   "execution_count": 21,
   "metadata": {},
   "outputs": [
    {
     "data": {
      "text/html": [
       "<div>\n",
       "<style scoped>\n",
       "    .dataframe tbody tr th:only-of-type {\n",
       "        vertical-align: middle;\n",
       "    }\n",
       "\n",
       "    .dataframe tbody tr th {\n",
       "        vertical-align: top;\n",
       "    }\n",
       "\n",
       "    .dataframe thead th {\n",
       "        text-align: right;\n",
       "    }\n",
       "</style>\n",
       "<table border=\"1\" class=\"dataframe\">\n",
       "  <thead>\n",
       "    <tr style=\"text-align: right;\">\n",
       "      <th></th>\n",
       "      <th>incorrect</th>\n",
       "      <th>correct</th>\n",
       "      <th>correct_char_count</th>\n",
       "      <th>incorrect_char_count</th>\n",
       "      <th>correct_word_count</th>\n",
       "      <th>incorrect_word_count</th>\n",
       "    </tr>\n",
       "  </thead>\n",
       "  <tbody>\n",
       "    <tr>\n",
       "      <th>0</th>\n",
       "      <td>The effect of widespread dud targets two face ...</td>\n",
       "      <td>1. The effect of \"widespread dud\" targets two ...</td>\n",
       "      <td>92</td>\n",
       "      <td>87</td>\n",
       "      <td>16</td>\n",
       "      <td>15</td>\n",
       "    </tr>\n",
       "    <tr>\n",
       "      <th>1</th>\n",
       "      <td>tax on sales of stores for non residents are s...</td>\n",
       "      <td>Capital Gains tax on the sale of properties fo...</td>\n",
       "      <td>355</td>\n",
       "      <td>334</td>\n",
       "      <td>63</td>\n",
       "      <td>59</td>\n",
       "    </tr>\n",
       "    <tr>\n",
       "      <th>2</th>\n",
       "      <td>Much many brands and sellers still in the market.</td>\n",
       "      <td>Many brands and sellers still in the market.</td>\n",
       "      <td>44</td>\n",
       "      <td>49</td>\n",
       "      <td>8</td>\n",
       "      <td>9</td>\n",
       "    </tr>\n",
       "    <tr>\n",
       "      <th>3</th>\n",
       "      <td>this is is the latest Maintenance release of S...</td>\n",
       "      <td>This is is the latest maintenance release of S...</td>\n",
       "      <td>55</td>\n",
       "      <td>54</td>\n",
       "      <td>10</td>\n",
       "      <td>10</td>\n",
       "    </tr>\n",
       "    <tr>\n",
       "      <th>4</th>\n",
       "      <td>Fairy Or Not, I'm the Godmother: no just look,...</td>\n",
       "      <td>Fairy Or Not, I'm the Godmother: Not just a lo...</td>\n",
       "      <td>100</td>\n",
       "      <td>94</td>\n",
       "      <td>20</td>\n",
       "      <td>18</td>\n",
       "    </tr>\n",
       "  </tbody>\n",
       "</table>\n",
       "</div>"
      ],
      "text/plain": [
       "                                           incorrect  \\\n",
       "0  The effect of widespread dud targets two face ...   \n",
       "1  tax on sales of stores for non residents are s...   \n",
       "2  Much many brands and sellers still in the market.   \n",
       "3  this is is the latest Maintenance release of S...   \n",
       "4  Fairy Or Not, I'm the Godmother: no just look,...   \n",
       "\n",
       "                                             correct  correct_char_count  \\\n",
       "0  1. The effect of \"widespread dud\" targets two ...                  92   \n",
       "1  Capital Gains tax on the sale of properties fo...                 355   \n",
       "2       Many brands and sellers still in the market.                  44   \n",
       "3  This is is the latest maintenance release of S...                  55   \n",
       "4  Fairy Or Not, I'm the Godmother: Not just a lo...                 100   \n",
       "\n",
       "   incorrect_char_count  correct_word_count  incorrect_word_count  \n",
       "0                    87                  16                    15  \n",
       "1                   334                  63                    59  \n",
       "2                    49                   8                     9  \n",
       "3                    54                  10                    10  \n",
       "4                    94                  20                    18  "
      ]
     },
     "execution_count": 21,
     "metadata": {},
     "output_type": "execute_result"
    }
   ],
   "source": [
    "df.head(5)"
   ]
  },
  {
   "cell_type": "markdown",
   "metadata": {},
   "source": [
    "# Preprocessing\n",
    "Removing Missing/NA"
   ]
  },
  {
   "cell_type": "code",
   "execution_count": 22,
   "metadata": {},
   "outputs": [
    {
     "data": {
      "text/html": [
       "<div>\n",
       "<style scoped>\n",
       "    .dataframe tbody tr th:only-of-type {\n",
       "        vertical-align: middle;\n",
       "    }\n",
       "\n",
       "    .dataframe tbody tr th {\n",
       "        vertical-align: top;\n",
       "    }\n",
       "\n",
       "    .dataframe thead th {\n",
       "        text-align: right;\n",
       "    }\n",
       "</style>\n",
       "<table border=\"1\" class=\"dataframe\">\n",
       "  <thead>\n",
       "    <tr style=\"text-align: right;\">\n",
       "      <th></th>\n",
       "      <th>missing_count</th>\n",
       "    </tr>\n",
       "  </thead>\n",
       "  <tbody>\n",
       "    <tr>\n",
       "      <th>incorrect</th>\n",
       "      <td>0</td>\n",
       "    </tr>\n",
       "    <tr>\n",
       "      <th>correct</th>\n",
       "      <td>2</td>\n",
       "    </tr>\n",
       "    <tr>\n",
       "      <th>correct_char_count</th>\n",
       "      <td>0</td>\n",
       "    </tr>\n",
       "    <tr>\n",
       "      <th>incorrect_char_count</th>\n",
       "      <td>0</td>\n",
       "    </tr>\n",
       "    <tr>\n",
       "      <th>correct_word_count</th>\n",
       "      <td>0</td>\n",
       "    </tr>\n",
       "    <tr>\n",
       "      <th>incorrect_word_count</th>\n",
       "      <td>0</td>\n",
       "    </tr>\n",
       "  </tbody>\n",
       "</table>\n",
       "</div>"
      ],
      "text/plain": [
       "                      missing_count\n",
       "incorrect                         0\n",
       "correct                           2\n",
       "correct_char_count                0\n",
       "incorrect_char_count              0\n",
       "correct_word_count                0\n",
       "incorrect_word_count              0"
      ]
     },
     "execution_count": 22,
     "metadata": {},
     "output_type": "execute_result"
    }
   ],
   "source": [
    "\n",
    "pd.DataFrame(df.isna().sum(),columns=['missing_count'])"
   ]
  },
  {
   "cell_type": "code",
   "execution_count": 23,
   "metadata": {},
   "outputs": [
    {
     "data": {
      "text/html": [
       "<div>\n",
       "<style scoped>\n",
       "    .dataframe tbody tr th:only-of-type {\n",
       "        vertical-align: middle;\n",
       "    }\n",
       "\n",
       "    .dataframe tbody tr th {\n",
       "        vertical-align: top;\n",
       "    }\n",
       "\n",
       "    .dataframe thead th {\n",
       "        text-align: right;\n",
       "    }\n",
       "</style>\n",
       "<table border=\"1\" class=\"dataframe\">\n",
       "  <thead>\n",
       "    <tr style=\"text-align: right;\">\n",
       "      <th></th>\n",
       "      <th>incorrect</th>\n",
       "      <th>correct</th>\n",
       "      <th>correct_char_count</th>\n",
       "      <th>incorrect_char_count</th>\n",
       "      <th>correct_word_count</th>\n",
       "      <th>incorrect_word_count</th>\n",
       "    </tr>\n",
       "  </thead>\n",
       "  <tbody>\n",
       "    <tr>\n",
       "      <th>152174</th>\n",
       "      <td>Some information and sources for the Fourier c...</td>\n",
       "      <td>NaN</td>\n",
       "      <td>3</td>\n",
       "      <td>234</td>\n",
       "      <td>1</td>\n",
       "      <td>38</td>\n",
       "    </tr>\n",
       "    <tr>\n",
       "      <th>487904</th>\n",
       "      <td>Unpacking the Effects of Repression: the Evolu...</td>\n",
       "      <td>NaN</td>\n",
       "      <td>3</td>\n",
       "      <td>375</td>\n",
       "      <td>1</td>\n",
       "      <td>55</td>\n",
       "    </tr>\n",
       "  </tbody>\n",
       "</table>\n",
       "</div>"
      ],
      "text/plain": [
       "                                                incorrect correct  \\\n",
       "152174  Some information and sources for the Fourier c...     NaN   \n",
       "487904  Unpacking the Effects of Repression: the Evolu...     NaN   \n",
       "\n",
       "        correct_char_count  incorrect_char_count  correct_word_count  \\\n",
       "152174                   3                   234                   1   \n",
       "487904                   3                   375                   1   \n",
       "\n",
       "        incorrect_word_count  \n",
       "152174                    38  \n",
       "487904                    55  "
      ]
     },
     "execution_count": 23,
     "metadata": {},
     "output_type": "execute_result"
    }
   ],
   "source": [
    "\n",
    "df[df.isna().any(axis=1)]"
   ]
  },
  {
   "cell_type": "code",
   "execution_count": 24,
   "metadata": {},
   "outputs": [],
   "source": [
    "\n",
    "df = df.dropna().reset_index(drop=True)"
   ]
  },
  {
   "cell_type": "code",
   "execution_count": 25,
   "metadata": {},
   "outputs": [
    {
     "data": {
      "text/plain": [
       "(499998, 6)"
      ]
     },
     "execution_count": 25,
     "metadata": {},
     "output_type": "execute_result"
    }
   ],
   "source": [
    "\n",
    "df.shape"
   ]
  },
  {
   "cell_type": "markdown",
   "metadata": {},
   "source": [
    "Keep unique sentence pairs"
   ]
  },
  {
   "cell_type": "code",
   "execution_count": 26,
   "metadata": {},
   "outputs": [
    {
     "name": "stdout",
     "output_type": "stream",
     "text": [
      "total number of duplicate pairs: 3072\n"
     ]
    }
   ],
   "source": [
    "print(f\"total number of duplicate pairs: {len(df[df['correct']==df['incorrect']])}\")"
   ]
  },
  {
   "cell_type": "code",
   "execution_count": 27,
   "metadata": {},
   "outputs": [
    {
     "data": {
      "text/html": [
       "<div>\n",
       "<style scoped>\n",
       "    .dataframe tbody tr th:only-of-type {\n",
       "        vertical-align: middle;\n",
       "    }\n",
       "\n",
       "    .dataframe tbody tr th {\n",
       "        vertical-align: top;\n",
       "    }\n",
       "\n",
       "    .dataframe thead th {\n",
       "        text-align: right;\n",
       "    }\n",
       "</style>\n",
       "<table border=\"1\" class=\"dataframe\">\n",
       "  <thead>\n",
       "    <tr style=\"text-align: right;\">\n",
       "      <th></th>\n",
       "      <th>incorrect</th>\n",
       "      <th>correct</th>\n",
       "      <th>correct_char_count</th>\n",
       "      <th>incorrect_char_count</th>\n",
       "      <th>correct_word_count</th>\n",
       "      <th>incorrect_word_count</th>\n",
       "    </tr>\n",
       "  </thead>\n",
       "  <tbody>\n",
       "    <tr>\n",
       "      <th>468113</th>\n",
       "      <td>Now spoon in 1 tbsp of potato masala all over ...</td>\n",
       "      <td>Now spoon in 1 tbsp of potato masala all over ...</td>\n",
       "      <td>57</td>\n",
       "      <td>57</td>\n",
       "      <td>12</td>\n",
       "      <td>12</td>\n",
       "    </tr>\n",
       "    <tr>\n",
       "      <th>432713</th>\n",
       "      <td>I’ve stopped hating Taylor Swift.</td>\n",
       "      <td>I’ve stopped hating Taylor Swift.</td>\n",
       "      <td>33</td>\n",
       "      <td>33</td>\n",
       "      <td>5</td>\n",
       "      <td>5</td>\n",
       "    </tr>\n",
       "    <tr>\n",
       "      <th>81637</th>\n",
       "      <td>She then started to notice more unusual symptoms.</td>\n",
       "      <td>She then started to notice more unusual symptoms.</td>\n",
       "      <td>49</td>\n",
       "      <td>49</td>\n",
       "      <td>8</td>\n",
       "      <td>8</td>\n",
       "    </tr>\n",
       "    <tr>\n",
       "      <th>41707</th>\n",
       "      <td>Cheers! Do you enjoy wine?</td>\n",
       "      <td>Cheers! Do you enjoy wine?</td>\n",
       "      <td>26</td>\n",
       "      <td>26</td>\n",
       "      <td>5</td>\n",
       "      <td>5</td>\n",
       "    </tr>\n",
       "    <tr>\n",
       "      <th>442785</th>\n",
       "      <td>Origional and High quality images of Bellevue ...</td>\n",
       "      <td>Origional and High quality images of Bellevue ...</td>\n",
       "      <td>53</td>\n",
       "      <td>53</td>\n",
       "      <td>8</td>\n",
       "      <td>8</td>\n",
       "    </tr>\n",
       "  </tbody>\n",
       "</table>\n",
       "</div>"
      ],
      "text/plain": [
       "                                                incorrect  \\\n",
       "468113  Now spoon in 1 tbsp of potato masala all over ...   \n",
       "432713                  I’ve stopped hating Taylor Swift.   \n",
       "81637   She then started to notice more unusual symptoms.   \n",
       "41707                          Cheers! Do you enjoy wine?   \n",
       "442785  Origional and High quality images of Bellevue ...   \n",
       "\n",
       "                                                  correct  correct_char_count  \\\n",
       "468113  Now spoon in 1 tbsp of potato masala all over ...                  57   \n",
       "432713                  I’ve stopped hating Taylor Swift.                  33   \n",
       "81637   She then started to notice more unusual symptoms.                  49   \n",
       "41707                          Cheers! Do you enjoy wine?                  26   \n",
       "442785  Origional and High quality images of Bellevue ...                  53   \n",
       "\n",
       "        incorrect_char_count  correct_word_count  incorrect_word_count  \n",
       "468113                    57                  12                    12  \n",
       "432713                    33                   5                     5  \n",
       "81637                     49                   8                     8  \n",
       "41707                     26                   5                     5  \n",
       "442785                    53                   8                     8  "
      ]
     },
     "execution_count": 27,
     "metadata": {},
     "output_type": "execute_result"
    }
   ],
   "source": [
    "\n",
    "df[df['correct']==df['incorrect']].sample(5)"
   ]
  },
  {
   "cell_type": "code",
   "execution_count": 28,
   "metadata": {},
   "outputs": [],
   "source": [
    "df = df[df['correct']!=df['incorrect']]"
   ]
  },
  {
   "cell_type": "code",
   "execution_count": 29,
   "metadata": {},
   "outputs": [
    {
     "data": {
      "text/plain": [
       "(496926, 6)"
      ]
     },
     "execution_count": 29,
     "metadata": {},
     "output_type": "execute_result"
    }
   ],
   "source": [
    "df.shape"
   ]
  },
  {
   "cell_type": "code",
   "execution_count": 30,
   "metadata": {},
   "outputs": [
    {
     "data": {
      "text/html": [
       "<div>\n",
       "<style scoped>\n",
       "    .dataframe tbody tr th:only-of-type {\n",
       "        vertical-align: middle;\n",
       "    }\n",
       "\n",
       "    .dataframe tbody tr th {\n",
       "        vertical-align: top;\n",
       "    }\n",
       "\n",
       "    .dataframe thead th {\n",
       "        text-align: right;\n",
       "    }\n",
       "</style>\n",
       "<table border=\"1\" class=\"dataframe\">\n",
       "  <thead>\n",
       "    <tr style=\"text-align: right;\">\n",
       "      <th></th>\n",
       "      <th>incorrect</th>\n",
       "      <th>correct</th>\n",
       "      <th>correct_char_count</th>\n",
       "      <th>incorrect_char_count</th>\n",
       "      <th>correct_word_count</th>\n",
       "      <th>incorrect_word_count</th>\n",
       "    </tr>\n",
       "  </thead>\n",
       "  <tbody>\n",
       "    <tr>\n",
       "      <th>114645</th>\n",
       "      <td>Giovanni Caggiano &amp; Erem Castelnuovo &amp; Oli Dam...</td>\n",
       "      <td>Giovanni Caggiano &amp; Efrem Castelnuovo &amp; Olivie...</td>\n",
       "      <td>295</td>\n",
       "      <td>302</td>\n",
       "      <td>39</td>\n",
       "      <td>44</td>\n",
       "    </tr>\n",
       "    <tr>\n",
       "      <th>363676</th>\n",
       "      <td>Russia, Jewish victimas Fund: per Rev I Solomo...</td>\n",
       "      <td>Russia, Jewish Victims Fund. Per Rev I. Solomo...</td>\n",
       "      <td>68</td>\n",
       "      <td>67</td>\n",
       "      <td>12</td>\n",
       "      <td>13</td>\n",
       "    </tr>\n",
       "    <tr>\n",
       "      <th>46521</th>\n",
       "      <td>But in some ways there are a lot more question...</td>\n",
       "      <td>But in some ways, there are a lot more questio...</td>\n",
       "      <td>103</td>\n",
       "      <td>101</td>\n",
       "      <td>19</td>\n",
       "      <td>19</td>\n",
       "    </tr>\n",
       "    <tr>\n",
       "      <th>415263</th>\n",
       "      <td>I love Callas but next Sutherlandic, even Call...</td>\n",
       "      <td>I love Callas but next to Sutherland, even Cal...</td>\n",
       "      <td>75</td>\n",
       "      <td>73</td>\n",
       "      <td>14</td>\n",
       "      <td>13</td>\n",
       "    </tr>\n",
       "    <tr>\n",
       "      <th>237295</th>\n",
       "      <td>Child Safety standards were also introduced an...</td>\n",
       "      <td>Child Safety Standards have also been introduc...</td>\n",
       "      <td>259</td>\n",
       "      <td>243</td>\n",
       "      <td>44</td>\n",
       "      <td>40</td>\n",
       "    </tr>\n",
       "  </tbody>\n",
       "</table>\n",
       "</div>"
      ],
      "text/plain": [
       "                                                incorrect  \\\n",
       "114645  Giovanni Caggiano & Erem Castelnuovo & Oli Dam...   \n",
       "363676  Russia, Jewish victimas Fund: per Rev I Solomo...   \n",
       "46521   But in some ways there are a lot more question...   \n",
       "415263  I love Callas but next Sutherlandic, even Call...   \n",
       "237295  Child Safety standards were also introduced an...   \n",
       "\n",
       "                                                  correct  correct_char_count  \\\n",
       "114645  Giovanni Caggiano & Efrem Castelnuovo & Olivie...                 295   \n",
       "363676  Russia, Jewish Victims Fund. Per Rev I. Solomo...                  68   \n",
       "46521   But in some ways, there are a lot more questio...                 103   \n",
       "415263  I love Callas but next to Sutherland, even Cal...                  75   \n",
       "237295  Child Safety Standards have also been introduc...                 259   \n",
       "\n",
       "        incorrect_char_count  correct_word_count  incorrect_word_count  \n",
       "114645                   302                  39                    44  \n",
       "363676                    67                  12                    13  \n",
       "46521                    101                  19                    19  \n",
       "415263                    73                  14                    13  \n",
       "237295                   243                  44                    40  "
      ]
     },
     "execution_count": 30,
     "metadata": {},
     "output_type": "execute_result"
    }
   ],
   "source": [
    "df.sample(5)"
   ]
  },
  {
   "cell_type": "markdown",
   "metadata": {},
   "source": [
    "Remove Duplicates"
   ]
  },
  {
   "cell_type": "code",
   "execution_count": 31,
   "metadata": {},
   "outputs": [
    {
     "name": "stdout",
     "output_type": "stream",
     "text": [
      "total number of duplicates: 0\n"
     ]
    }
   ],
   "source": [
    "\n",
    "print(f'total number of duplicates: {df.duplicated().sum()}')"
   ]
  },
  {
   "cell_type": "code",
   "execution_count": 32,
   "metadata": {},
   "outputs": [
    {
     "ename": "KeyError",
     "evalue": "'Correct'",
     "output_type": "error",
     "traceback": [
      "\u001b[1;31m---------------------------------------------------------------------------\u001b[0m",
      "\u001b[1;31mKeyError\u001b[0m                                  Traceback (most recent call last)",
      "\u001b[1;32m~\\AppData\\Local\\Temp\\ipykernel_25620\\1235290762.py\u001b[0m in \u001b[0;36m?\u001b[1;34m()\u001b[0m\n\u001b[1;32m----> 1\u001b[1;33m \u001b[0mdf\u001b[0m\u001b[1;33m[\u001b[0m\u001b[0mdf\u001b[0m\u001b[1;33m.\u001b[0m\u001b[0mduplicated\u001b[0m\u001b[1;33m(\u001b[0m\u001b[0mkeep\u001b[0m\u001b[1;33m=\u001b[0m\u001b[1;32mFalse\u001b[0m\u001b[1;33m)\u001b[0m\u001b[1;33m]\u001b[0m\u001b[1;33m.\u001b[0m\u001b[0msort_values\u001b[0m\u001b[1;33m(\u001b[0m\u001b[1;34m'Correct'\u001b[0m\u001b[1;33m)\u001b[0m\u001b[1;33m\u001b[0m\u001b[1;33m\u001b[0m\u001b[0m\n\u001b[0m",
      "\u001b[1;32md:\\TEL-U\\BANGKIT!\\NARASPEAK\\virtualenvNaraSpeak\\lib\\site-packages\\pandas\\core\\frame.py\u001b[0m in \u001b[0;36m?\u001b[1;34m(self, by, axis, ascending, inplace, kind, na_position, ignore_index, key)\u001b[0m\n\u001b[0;32m   7185\u001b[0m             )\n\u001b[0;32m   7186\u001b[0m         \u001b[1;32melif\u001b[0m \u001b[0mlen\u001b[0m\u001b[1;33m(\u001b[0m\u001b[0mby\u001b[0m\u001b[1;33m)\u001b[0m\u001b[1;33m:\u001b[0m\u001b[1;33m\u001b[0m\u001b[1;33m\u001b[0m\u001b[0m\n\u001b[0;32m   7187\u001b[0m             \u001b[1;31m# len(by) == 1\u001b[0m\u001b[1;33m\u001b[0m\u001b[1;33m\u001b[0m\u001b[0m\n\u001b[0;32m   7188\u001b[0m \u001b[1;33m\u001b[0m\u001b[0m\n\u001b[1;32m-> 7189\u001b[1;33m             \u001b[0mk\u001b[0m \u001b[1;33m=\u001b[0m \u001b[0mself\u001b[0m\u001b[1;33m.\u001b[0m\u001b[0m_get_label_or_level_values\u001b[0m\u001b[1;33m(\u001b[0m\u001b[0mby\u001b[0m\u001b[1;33m[\u001b[0m\u001b[1;36m0\u001b[0m\u001b[1;33m]\u001b[0m\u001b[1;33m,\u001b[0m \u001b[0maxis\u001b[0m\u001b[1;33m=\u001b[0m\u001b[0maxis\u001b[0m\u001b[1;33m)\u001b[0m\u001b[1;33m\u001b[0m\u001b[1;33m\u001b[0m\u001b[0m\n\u001b[0m\u001b[0;32m   7190\u001b[0m \u001b[1;33m\u001b[0m\u001b[0m\n\u001b[0;32m   7191\u001b[0m             \u001b[1;31m# need to rewrap column in Series to apply key function\u001b[0m\u001b[1;33m\u001b[0m\u001b[1;33m\u001b[0m\u001b[0m\n\u001b[0;32m   7192\u001b[0m             \u001b[1;32mif\u001b[0m \u001b[0mkey\u001b[0m \u001b[1;32mis\u001b[0m \u001b[1;32mnot\u001b[0m \u001b[1;32mNone\u001b[0m\u001b[1;33m:\u001b[0m\u001b[1;33m\u001b[0m\u001b[1;33m\u001b[0m\u001b[0m\n",
      "\u001b[1;32md:\\TEL-U\\BANGKIT!\\NARASPEAK\\virtualenvNaraSpeak\\lib\\site-packages\\pandas\\core\\generic.py\u001b[0m in \u001b[0;36m?\u001b[1;34m(self, key, axis)\u001b[0m\n\u001b[0;32m   1907\u001b[0m             \u001b[0mvalues\u001b[0m \u001b[1;33m=\u001b[0m \u001b[0mself\u001b[0m\u001b[1;33m.\u001b[0m\u001b[0mxs\u001b[0m\u001b[1;33m(\u001b[0m\u001b[0mkey\u001b[0m\u001b[1;33m,\u001b[0m \u001b[0maxis\u001b[0m\u001b[1;33m=\u001b[0m\u001b[0mother_axes\u001b[0m\u001b[1;33m[\u001b[0m\u001b[1;36m0\u001b[0m\u001b[1;33m]\u001b[0m\u001b[1;33m)\u001b[0m\u001b[1;33m.\u001b[0m\u001b[0m_values\u001b[0m\u001b[1;33m\u001b[0m\u001b[1;33m\u001b[0m\u001b[0m\n\u001b[0;32m   1908\u001b[0m         \u001b[1;32melif\u001b[0m \u001b[0mself\u001b[0m\u001b[1;33m.\u001b[0m\u001b[0m_is_level_reference\u001b[0m\u001b[1;33m(\u001b[0m\u001b[0mkey\u001b[0m\u001b[1;33m,\u001b[0m \u001b[0maxis\u001b[0m\u001b[1;33m=\u001b[0m\u001b[0maxis\u001b[0m\u001b[1;33m)\u001b[0m\u001b[1;33m:\u001b[0m\u001b[1;33m\u001b[0m\u001b[1;33m\u001b[0m\u001b[0m\n\u001b[0;32m   1909\u001b[0m             \u001b[0mvalues\u001b[0m \u001b[1;33m=\u001b[0m \u001b[0mself\u001b[0m\u001b[1;33m.\u001b[0m\u001b[0maxes\u001b[0m\u001b[1;33m[\u001b[0m\u001b[0maxis\u001b[0m\u001b[1;33m]\u001b[0m\u001b[1;33m.\u001b[0m\u001b[0mget_level_values\u001b[0m\u001b[1;33m(\u001b[0m\u001b[0mkey\u001b[0m\u001b[1;33m)\u001b[0m\u001b[1;33m.\u001b[0m\u001b[0m_values\u001b[0m\u001b[1;33m\u001b[0m\u001b[1;33m\u001b[0m\u001b[0m\n\u001b[0;32m   1910\u001b[0m         \u001b[1;32melse\u001b[0m\u001b[1;33m:\u001b[0m\u001b[1;33m\u001b[0m\u001b[1;33m\u001b[0m\u001b[0m\n\u001b[1;32m-> 1911\u001b[1;33m             \u001b[1;32mraise\u001b[0m \u001b[0mKeyError\u001b[0m\u001b[1;33m(\u001b[0m\u001b[0mkey\u001b[0m\u001b[1;33m)\u001b[0m\u001b[1;33m\u001b[0m\u001b[1;33m\u001b[0m\u001b[0m\n\u001b[0m\u001b[0;32m   1912\u001b[0m \u001b[1;33m\u001b[0m\u001b[0m\n\u001b[0;32m   1913\u001b[0m         \u001b[1;31m# Check for duplicates\u001b[0m\u001b[1;33m\u001b[0m\u001b[1;33m\u001b[0m\u001b[0m\n\u001b[0;32m   1914\u001b[0m         \u001b[1;32mif\u001b[0m \u001b[0mvalues\u001b[0m\u001b[1;33m.\u001b[0m\u001b[0mndim\u001b[0m \u001b[1;33m>\u001b[0m \u001b[1;36m1\u001b[0m\u001b[1;33m:\u001b[0m\u001b[1;33m\u001b[0m\u001b[1;33m\u001b[0m\u001b[0m\n",
      "\u001b[1;31mKeyError\u001b[0m: 'Correct'"
     ]
    }
   ],
   "source": [
    "\n",
    "df[df.duplicated(keep=False)].sort_values('Correct')"
   ]
  },
  {
   "cell_type": "code",
   "execution_count": null,
   "metadata": {},
   "outputs": [],
   "source": [
    "\n",
    "df = df.drop_duplicates().reset_index(drop=True)"
   ]
  },
  {
   "cell_type": "code",
   "execution_count": null,
   "metadata": {},
   "outputs": [
    {
     "data": {
      "text/plain": [
       "(496926, 6)"
      ]
     },
     "execution_count": 67,
     "metadata": {},
     "output_type": "execute_result"
    }
   ],
   "source": [
    "df.shape"
   ]
  },
  {
   "cell_type": "code",
   "execution_count": null,
   "metadata": {},
   "outputs": [
    {
     "data": {
      "text/html": [
       "<div>\n",
       "<style scoped>\n",
       "    .dataframe tbody tr th:only-of-type {\n",
       "        vertical-align: middle;\n",
       "    }\n",
       "\n",
       "    .dataframe tbody tr th {\n",
       "        vertical-align: top;\n",
       "    }\n",
       "\n",
       "    .dataframe thead th {\n",
       "        text-align: right;\n",
       "    }\n",
       "</style>\n",
       "<table border=\"1\" class=\"dataframe\">\n",
       "  <thead>\n",
       "    <tr style=\"text-align: right;\">\n",
       "      <th></th>\n",
       "      <th>Incorrect</th>\n",
       "      <th>Correct</th>\n",
       "      <th>correct_char_count</th>\n",
       "      <th>incorrect_char_count</th>\n",
       "      <th>correct_word_count</th>\n",
       "      <th>incorrect_word_count</th>\n",
       "    </tr>\n",
       "  </thead>\n",
       "  <tbody>\n",
       "    <tr>\n",
       "      <th>283818</th>\n",
       "      <td>She doesn’t have a name yet but the 11-month-o...</td>\n",
       "      <td>She doesn’t have a name yet, but the 11-month-...</td>\n",
       "      <td>140</td>\n",
       "      <td>124</td>\n",
       "      <td>25</td>\n",
       "      <td>22</td>\n",
       "    </tr>\n",
       "    <tr>\n",
       "      <th>422554</th>\n",
       "      <td>Derivation process has been lifted such that c...</td>\n",
       "      <td>The derivation process has been lifted such th...</td>\n",
       "      <td>143</td>\n",
       "      <td>133</td>\n",
       "      <td>20</td>\n",
       "      <td>18</td>\n",
       "    </tr>\n",
       "    <tr>\n",
       "      <th>199598</th>\n",
       "      <td>Despite a front of bad weather heading western...</td>\n",
       "      <td>Despite a front of bad weather heading up New ...</td>\n",
       "      <td>136</td>\n",
       "      <td>130</td>\n",
       "      <td>24</td>\n",
       "      <td>22</td>\n",
       "    </tr>\n",
       "    <tr>\n",
       "      <th>187798</th>\n",
       "      <td>1) what self-awareness is [and how to how main...</td>\n",
       "      <td>1. What self-awareness is (and how to cultivat...</td>\n",
       "      <td>52</td>\n",
       "      <td>54</td>\n",
       "      <td>9</td>\n",
       "      <td>10</td>\n",
       "    </tr>\n",
       "    <tr>\n",
       "      <th>66688</th>\n",
       "      <td>NRC: Package ML062630002 - Browns Ferry, at Un...</td>\n",
       "      <td>NRC: Package ML062630002 - Browns Ferry, Unit ...</td>\n",
       "      <td>155</td>\n",
       "      <td>148</td>\n",
       "      <td>23</td>\n",
       "      <td>24</td>\n",
       "    </tr>\n",
       "  </tbody>\n",
       "</table>\n",
       "</div>"
      ],
      "text/plain": [
       "                                                Incorrect  \\\n",
       "283818  She doesn’t have a name yet but the 11-month-o...   \n",
       "422554  Derivation process has been lifted such that c...   \n",
       "199598  Despite a front of bad weather heading western...   \n",
       "187798  1) what self-awareness is [and how to how main...   \n",
       "66688   NRC: Package ML062630002 - Browns Ferry, at Un...   \n",
       "\n",
       "                                                  Correct  correct_char_count  \\\n",
       "283818  She doesn’t have a name yet, but the 11-month-...                 140   \n",
       "422554  The derivation process has been lifted such th...                 143   \n",
       "199598  Despite a front of bad weather heading up New ...                 136   \n",
       "187798  1. What self-awareness is (and how to cultivat...                  52   \n",
       "66688   NRC: Package ML062630002 - Browns Ferry, Unit ...                 155   \n",
       "\n",
       "        incorrect_char_count  correct_word_count  incorrect_word_count  \n",
       "283818                   124                  25                    22  \n",
       "422554                   133                  20                    18  \n",
       "199598                   130                  24                    22  \n",
       "187798                    54                   9                    10  \n",
       "66688                    148                  23                    24  "
      ]
     },
     "execution_count": 68,
     "metadata": {},
     "output_type": "execute_result"
    }
   ],
   "source": [
    "df.sample(5)"
   ]
  },
  {
   "cell_type": "markdown",
   "metadata": {},
   "source": [
    "Remove Small sentences"
   ]
  },
  {
   "cell_type": "code",
   "execution_count": null,
   "metadata": {},
   "outputs": [
    {
     "data": {
      "text/plain": [
       "(0, 6)"
      ]
     },
     "execution_count": 69,
     "metadata": {},
     "output_type": "execute_result"
    }
   ],
   "source": [
    "df[df['incorrect_char_count']<2].shape"
   ]
  },
  {
   "cell_type": "code",
   "execution_count": null,
   "metadata": {},
   "outputs": [],
   "source": [
    "\n",
    "df = df[df['incorrect_char_count']>2].reset_index(drop=True)"
   ]
  },
  {
   "cell_type": "code",
   "execution_count": null,
   "metadata": {},
   "outputs": [
    {
     "data": {
      "text/plain": [
       "(496920, 6)"
      ]
     },
     "execution_count": 71,
     "metadata": {},
     "output_type": "execute_result"
    }
   ],
   "source": [
    "df.shape"
   ]
  },
  {
   "cell_type": "code",
   "execution_count": null,
   "metadata": {},
   "outputs": [
    {
     "data": {
      "text/plain": [
       "(0, 6)"
      ]
     },
     "execution_count": 72,
     "metadata": {},
     "output_type": "execute_result"
    }
   ],
   "source": [
    "df[df['correct_char_count']<2].shape"
   ]
  },
  {
   "cell_type": "code",
   "execution_count": null,
   "metadata": {},
   "outputs": [
    {
     "data": {
      "text/plain": [
       "<bound method NDFrame.sample of Empty DataFrame\n",
       "Columns: [Incorrect, Correct, correct_char_count, incorrect_char_count, correct_word_count, incorrect_word_count]\n",
       "Index: []>"
      ]
     },
     "execution_count": 73,
     "metadata": {},
     "output_type": "execute_result"
    }
   ],
   "source": [
    "df[df['correct_char_count']<2].sample"
   ]
  },
  {
   "cell_type": "code",
   "execution_count": null,
   "metadata": {},
   "outputs": [],
   "source": [
    "df = df[df['correct_char_count']>2].reset_index(drop=True)"
   ]
  },
  {
   "cell_type": "code",
   "execution_count": null,
   "metadata": {},
   "outputs": [
    {
     "data": {
      "text/plain": [
       "(496920, 6)"
      ]
     },
     "execution_count": 75,
     "metadata": {},
     "output_type": "execute_result"
    }
   ],
   "source": [
    "df.shape"
   ]
  },
  {
   "cell_type": "markdown",
   "metadata": {},
   "source": [
    "Cleaning Text"
   ]
  },
  {
   "cell_type": "code",
   "execution_count": null,
   "metadata": {},
   "outputs": [],
   "source": [
    "#https://www.analyticsvidhya.com/blog/2020/04/beginners-guide-exploratory-data-analysis-text-data/\n",
    "contractions_dict = { \"ain't\": \"are not\",\"'s\":\" is\",\"aren't\": \"are not\",\n",
    "                     \"can't\": \"cannot\",\"can't've\": \"cannot have\",\n",
    "                     \"'cause\": \"because\",\"could've\": \"could have\",\"couldn't\": \"could not\",\n",
    "                     \"couldn't've\": \"could not have\", \"didn't\": \"did not\",\"doesn't\": \"does not\",\n",
    "                     \"don't\": \"do not\",\"hadn't\": \"had not\",\"hadn't've\": \"had not have\",\n",
    "                     \"hasn't\": \"has not\",\"haven't\": \"have not\",\"he'd\": \"he would\",\n",
    "                     \"he'd've\": \"he would have\",\"he'll\": \"he will\", \"he'll've\": \"he will have\",\n",
    "                     \"how'd\": \"how did\",\"how'd'y\": \"how do you\",\"how'll\": \"how will\",\n",
    "                     \"I'd\": \"I would\", \"I'd've\": \"I would have\",\"I'll\": \"I will\",\n",
    "                     \"I'll've\": \"I will have\",\"I'm\": \"I am\",\"I've\": \"I have\", \"isn't\": \"is not\",\n",
    "                     \"it'd\": \"it would\",\"it'd've\": \"it would have\",\"it'll\": \"it will\",\n",
    "                     \"it'll've\": \"it will have\", \"let's\": \"let us\",\"ma'am\": \"madam\",\n",
    "                     \"mayn't\": \"may not\",\"might've\": \"might have\",\"mightn't\": \"might not\", \n",
    "                     \"mightn't've\": \"might not have\",\"must've\": \"must have\",\"mustn't\": \"must not\",\n",
    "                     \"mustn't've\": \"must not have\", \"needn't\": \"need not\",\n",
    "                     \"needn't've\": \"need not have\",\"o'clock\": \"of the clock\",\"oughtn't\": \"ought not\",\n",
    "                     \"oughtn't've\": \"ought not have\",\"shan't\": \"shall not\",\"sha'n't\": \"shall not\",\n",
    "                     \"shan't've\": \"shall not have\",\"she'd\": \"she would\",\"she'd've\": \"she would have\",\n",
    "                     \"she'll\": \"she will\", \"she'll've\": \"she will have\",\"should've\": \"should have\",\n",
    "                     \"shouldn't\": \"should not\", \"shouldn't've\": \"should not have\",\"so've\": \"so have\",\n",
    "                     \"that'd\": \"that would\",\"that'd've\": \"that would have\", \"there'd\": \"there would\",\n",
    "                     \"there'd've\": \"there would have\", \"they'd\": \"they would\",\n",
    "                     \"they'd've\": \"they would have\",\"they'll\": \"they will\",\n",
    "                     \"they'll've\": \"they will have\", \"they're\": \"they are\",\"they've\": \"they have\",\n",
    "                     \"to've\": \"to have\",\"wasn't\": \"was not\",\"we'd\": \"we would\",\n",
    "                     \"we'd've\": \"we would have\",\"we'll\": \"we will\",\"we'll've\": \"we will have\",\n",
    "                     \"we're\": \"we are\",\"we've\": \"we have\", \"weren't\": \"were not\",\"what'll\": \"what will\",\n",
    "                     \"what'll've\": \"what will have\",\"what're\": \"what are\", \"what've\": \"what have\",\n",
    "                     \"when've\": \"when have\",\"where'd\": \"where did\", \"where've\": \"where have\",\n",
    "                     \"who'll\": \"who will\",\"who'll've\": \"who will have\",\"who've\": \"who have\",\n",
    "                     \"why've\": \"why have\",\"will've\": \"will have\",\"won't\": \"will not\",\n",
    "                     \"won't've\": \"will not have\", \"would've\": \"would have\",\"wouldn't\": \"would not\",\n",
    "                     \"wouldn't've\": \"would not have\",\"y'all\": \"you all\", \"y'all'd\": \"you all would\",\n",
    "                     \"y'all'd've\": \"you all would have\",\"y'all're\": \"you all are\",\n",
    "                     \"y'all've\": \"you all have\", \"you'd\": \"you would\",\"you'd've\": \"you would have\",\n",
    "                     \"you'll\": \"you will\",\"you'll've\": \"you will have\", \"you're\": \"you are\",\n",
    "                     \"you've\": \"you have\",\"n\\'t\":\" not\",\"\\'re\":\" are\",\"\\'s\": \" is\",\"\\'d\":\" would\",\n",
    "                     \"\\'ll\": \" will\",\"\\'t\":\" not\",\"\\'ve\": \" have\",\"\\'m\":\" am\"}\n",
    "\n",
    "\n",
    "# Regular expression for finding contractions\n",
    "contractions_re=re.compile('(%s)' % '|'.join(contractions_dict.keys()))\n",
    "\n",
    "# Function for expanding contractions\n",
    "def expand_contractions(text,contractions_dict=contractions_dict):\n",
    "    def replace(match):\n",
    "        return contractions_dict[match.group(0)]\n",
    "    return contractions_re.sub(replace, text)"
   ]
  },
  {
   "cell_type": "code",
   "execution_count": null,
   "metadata": {},
   "outputs": [],
   "source": [
    "def clean(text):\n",
    "    text = re.sub('\\s*\\<.*?\\>\\s', '', text)\n",
    "    text = re.sub('\\s*.*?\\s', '', text)\n",
    "    text = re.sub('\\s*.*?\\s', '', text)\n",
    "    text = re.sub('\\s*\\{.*?\\}\\s', '', text)\n",
    "    text = re.sub(\"[-+@#^/|*(){}$~<>=_%:;]\",\"\",text)\n",
    "    text = text.replace(\"\\\\\",\"\")\n",
    "    text = re.sub(\"\\[\",\"\",text)\n",
    "    text = re.sub(\"\\]\",\"\",text)\n",
    "    text = re.sub(\"\\<\",\"\",text)\n",
    "    text = re.sub(\"\\>\",\"\",text)\n",
    "    text = re.sub(\"\\(\",\"\",text)\n",
    "    text = re.sub(\"\\)\",\"\",text)\n",
    "    text = re.sub(\"[0-9]\",\"\",text)\n",
    "    text = ' '.join(text.split())\n",
    "    return text"
   ]
  },
  {
   "cell_type": "code",
   "execution_count": null,
   "metadata": {},
   "outputs": [
    {
     "ename": "KeyError",
     "evalue": "'Correct'",
     "output_type": "error",
     "traceback": [
      "\u001b[1;31m---------------------------------------------------------------------------\u001b[0m",
      "\u001b[1;31mKeyError\u001b[0m                                  Traceback (most recent call last)",
      "File \u001b[1;32md:\\TEL-U\\BANGKIT!\\NARASPEAK\\virtualenvNaraSpeak\\lib\\site-packages\\pandas\\core\\indexes\\base.py:3805\u001b[0m, in \u001b[0;36mIndex.get_loc\u001b[1;34m(self, key)\u001b[0m\n\u001b[0;32m   3804\u001b[0m \u001b[38;5;28;01mtry\u001b[39;00m:\n\u001b[1;32m-> 3805\u001b[0m     \u001b[38;5;28;01mreturn\u001b[39;00m \u001b[38;5;28;43mself\u001b[39;49m\u001b[38;5;241;43m.\u001b[39;49m\u001b[43m_engine\u001b[49m\u001b[38;5;241;43m.\u001b[39;49m\u001b[43mget_loc\u001b[49m\u001b[43m(\u001b[49m\u001b[43mcasted_key\u001b[49m\u001b[43m)\u001b[49m\n\u001b[0;32m   3806\u001b[0m \u001b[38;5;28;01mexcept\u001b[39;00m \u001b[38;5;167;01mKeyError\u001b[39;00m \u001b[38;5;28;01mas\u001b[39;00m err:\n",
      "File \u001b[1;32mindex.pyx:167\u001b[0m, in \u001b[0;36mpandas._libs.index.IndexEngine.get_loc\u001b[1;34m()\u001b[0m\n",
      "File \u001b[1;32mindex.pyx:196\u001b[0m, in \u001b[0;36mpandas._libs.index.IndexEngine.get_loc\u001b[1;34m()\u001b[0m\n",
      "File \u001b[1;32mpandas\\\\_libs\\\\hashtable_class_helper.pxi:7081\u001b[0m, in \u001b[0;36mpandas._libs.hashtable.PyObjectHashTable.get_item\u001b[1;34m()\u001b[0m\n",
      "File \u001b[1;32mpandas\\\\_libs\\\\hashtable_class_helper.pxi:7089\u001b[0m, in \u001b[0;36mpandas._libs.hashtable.PyObjectHashTable.get_item\u001b[1;34m()\u001b[0m\n",
      "\u001b[1;31mKeyError\u001b[0m: 'Correct'",
      "\nThe above exception was the direct cause of the following exception:\n",
      "\u001b[1;31mKeyError\u001b[0m                                  Traceback (most recent call last)",
      "Cell \u001b[1;32mIn[110], line 2\u001b[0m\n\u001b[0;32m      1\u001b[0m \u001b[38;5;66;03m# df['Correct'] = df['Correct'].progress_apply(clean)\u001b[39;00m\n\u001b[1;32m----> 2\u001b[0m df[\u001b[38;5;124m'\u001b[39m\u001b[38;5;124mCorrect\u001b[39m\u001b[38;5;124m'\u001b[39m] \u001b[38;5;241m=\u001b[39m \u001b[43mdf\u001b[49m\u001b[43m[\u001b[49m\u001b[38;5;124;43m'\u001b[39;49m\u001b[38;5;124;43mCorrect\u001b[39;49m\u001b[38;5;124;43m'\u001b[39;49m\u001b[43m]\u001b[49m\u001b[38;5;241m.\u001b[39mprogress_apply(expand_contractions)\n",
      "File \u001b[1;32md:\\TEL-U\\BANGKIT!\\NARASPEAK\\virtualenvNaraSpeak\\lib\\site-packages\\pandas\\core\\frame.py:4102\u001b[0m, in \u001b[0;36mDataFrame.__getitem__\u001b[1;34m(self, key)\u001b[0m\n\u001b[0;32m   4100\u001b[0m \u001b[38;5;28;01mif\u001b[39;00m \u001b[38;5;28mself\u001b[39m\u001b[38;5;241m.\u001b[39mcolumns\u001b[38;5;241m.\u001b[39mnlevels \u001b[38;5;241m>\u001b[39m \u001b[38;5;241m1\u001b[39m:\n\u001b[0;32m   4101\u001b[0m     \u001b[38;5;28;01mreturn\u001b[39;00m \u001b[38;5;28mself\u001b[39m\u001b[38;5;241m.\u001b[39m_getitem_multilevel(key)\n\u001b[1;32m-> 4102\u001b[0m indexer \u001b[38;5;241m=\u001b[39m \u001b[38;5;28;43mself\u001b[39;49m\u001b[38;5;241;43m.\u001b[39;49m\u001b[43mcolumns\u001b[49m\u001b[38;5;241;43m.\u001b[39;49m\u001b[43mget_loc\u001b[49m\u001b[43m(\u001b[49m\u001b[43mkey\u001b[49m\u001b[43m)\u001b[49m\n\u001b[0;32m   4103\u001b[0m \u001b[38;5;28;01mif\u001b[39;00m is_integer(indexer):\n\u001b[0;32m   4104\u001b[0m     indexer \u001b[38;5;241m=\u001b[39m [indexer]\n",
      "File \u001b[1;32md:\\TEL-U\\BANGKIT!\\NARASPEAK\\virtualenvNaraSpeak\\lib\\site-packages\\pandas\\core\\indexes\\base.py:3812\u001b[0m, in \u001b[0;36mIndex.get_loc\u001b[1;34m(self, key)\u001b[0m\n\u001b[0;32m   3807\u001b[0m     \u001b[38;5;28;01mif\u001b[39;00m \u001b[38;5;28misinstance\u001b[39m(casted_key, \u001b[38;5;28mslice\u001b[39m) \u001b[38;5;129;01mor\u001b[39;00m (\n\u001b[0;32m   3808\u001b[0m         \u001b[38;5;28misinstance\u001b[39m(casted_key, abc\u001b[38;5;241m.\u001b[39mIterable)\n\u001b[0;32m   3809\u001b[0m         \u001b[38;5;129;01mand\u001b[39;00m \u001b[38;5;28many\u001b[39m(\u001b[38;5;28misinstance\u001b[39m(x, \u001b[38;5;28mslice\u001b[39m) \u001b[38;5;28;01mfor\u001b[39;00m x \u001b[38;5;129;01min\u001b[39;00m casted_key)\n\u001b[0;32m   3810\u001b[0m     ):\n\u001b[0;32m   3811\u001b[0m         \u001b[38;5;28;01mraise\u001b[39;00m InvalidIndexError(key)\n\u001b[1;32m-> 3812\u001b[0m     \u001b[38;5;28;01mraise\u001b[39;00m \u001b[38;5;167;01mKeyError\u001b[39;00m(key) \u001b[38;5;28;01mfrom\u001b[39;00m \u001b[38;5;21;01merr\u001b[39;00m\n\u001b[0;32m   3813\u001b[0m \u001b[38;5;28;01mexcept\u001b[39;00m \u001b[38;5;167;01mTypeError\u001b[39;00m:\n\u001b[0;32m   3814\u001b[0m     \u001b[38;5;66;03m# If we have a listlike key, _check_indexing_error will raise\u001b[39;00m\n\u001b[0;32m   3815\u001b[0m     \u001b[38;5;66;03m#  InvalidIndexError. Otherwise we fall through and re-raise\u001b[39;00m\n\u001b[0;32m   3816\u001b[0m     \u001b[38;5;66;03m#  the TypeError.\u001b[39;00m\n\u001b[0;32m   3817\u001b[0m     \u001b[38;5;28mself\u001b[39m\u001b[38;5;241m.\u001b[39m_check_indexing_error(key)\n",
      "\u001b[1;31mKeyError\u001b[0m: 'Correct'"
     ]
    }
   ],
   "source": [
    "\n",
    "# df['Correct'] = df['Correct'].progress_apply(clean)\n",
    "df['Correct'] = df['Correct'].progress_apply(expand_contractions)"
   ]
  },
  {
   "cell_type": "code",
   "execution_count": null,
   "metadata": {},
   "outputs": [
    {
     "ename": "KeyError",
     "evalue": "'Incorrect'",
     "output_type": "error",
     "traceback": [
      "\u001b[1;31m---------------------------------------------------------------------------\u001b[0m",
      "\u001b[1;31mKeyError\u001b[0m                                  Traceback (most recent call last)",
      "File \u001b[1;32md:\\TEL-U\\BANGKIT!\\NARASPEAK\\virtualenvNaraSpeak\\lib\\site-packages\\pandas\\core\\indexes\\base.py:3805\u001b[0m, in \u001b[0;36mIndex.get_loc\u001b[1;34m(self, key)\u001b[0m\n\u001b[0;32m   3804\u001b[0m \u001b[38;5;28;01mtry\u001b[39;00m:\n\u001b[1;32m-> 3805\u001b[0m     \u001b[38;5;28;01mreturn\u001b[39;00m \u001b[38;5;28;43mself\u001b[39;49m\u001b[38;5;241;43m.\u001b[39;49m\u001b[43m_engine\u001b[49m\u001b[38;5;241;43m.\u001b[39;49m\u001b[43mget_loc\u001b[49m\u001b[43m(\u001b[49m\u001b[43mcasted_key\u001b[49m\u001b[43m)\u001b[49m\n\u001b[0;32m   3806\u001b[0m \u001b[38;5;28;01mexcept\u001b[39;00m \u001b[38;5;167;01mKeyError\u001b[39;00m \u001b[38;5;28;01mas\u001b[39;00m err:\n",
      "File \u001b[1;32mindex.pyx:167\u001b[0m, in \u001b[0;36mpandas._libs.index.IndexEngine.get_loc\u001b[1;34m()\u001b[0m\n",
      "File \u001b[1;32mindex.pyx:196\u001b[0m, in \u001b[0;36mpandas._libs.index.IndexEngine.get_loc\u001b[1;34m()\u001b[0m\n",
      "File \u001b[1;32mpandas\\\\_libs\\\\hashtable_class_helper.pxi:7081\u001b[0m, in \u001b[0;36mpandas._libs.hashtable.PyObjectHashTable.get_item\u001b[1;34m()\u001b[0m\n",
      "File \u001b[1;32mpandas\\\\_libs\\\\hashtable_class_helper.pxi:7089\u001b[0m, in \u001b[0;36mpandas._libs.hashtable.PyObjectHashTable.get_item\u001b[1;34m()\u001b[0m\n",
      "\u001b[1;31mKeyError\u001b[0m: 'Incorrect'",
      "\nThe above exception was the direct cause of the following exception:\n",
      "\u001b[1;31mKeyError\u001b[0m                                  Traceback (most recent call last)",
      "Cell \u001b[1;32mIn[111], line 2\u001b[0m\n\u001b[0;32m      1\u001b[0m \u001b[38;5;66;03m# df['Incorrect'] = df['Incorrect'].progress_apply(clean)\u001b[39;00m\n\u001b[1;32m----> 2\u001b[0m df[\u001b[38;5;124m'\u001b[39m\u001b[38;5;124mIncorrect\u001b[39m\u001b[38;5;124m'\u001b[39m] \u001b[38;5;241m=\u001b[39m \u001b[43mdf\u001b[49m\u001b[43m[\u001b[49m\u001b[38;5;124;43m'\u001b[39;49m\u001b[38;5;124;43mIncorrect\u001b[39;49m\u001b[38;5;124;43m'\u001b[39;49m\u001b[43m]\u001b[49m\u001b[38;5;241m.\u001b[39mprogress_apply(expand_contractions)\n",
      "File \u001b[1;32md:\\TEL-U\\BANGKIT!\\NARASPEAK\\virtualenvNaraSpeak\\lib\\site-packages\\pandas\\core\\frame.py:4102\u001b[0m, in \u001b[0;36mDataFrame.__getitem__\u001b[1;34m(self, key)\u001b[0m\n\u001b[0;32m   4100\u001b[0m \u001b[38;5;28;01mif\u001b[39;00m \u001b[38;5;28mself\u001b[39m\u001b[38;5;241m.\u001b[39mcolumns\u001b[38;5;241m.\u001b[39mnlevels \u001b[38;5;241m>\u001b[39m \u001b[38;5;241m1\u001b[39m:\n\u001b[0;32m   4101\u001b[0m     \u001b[38;5;28;01mreturn\u001b[39;00m \u001b[38;5;28mself\u001b[39m\u001b[38;5;241m.\u001b[39m_getitem_multilevel(key)\n\u001b[1;32m-> 4102\u001b[0m indexer \u001b[38;5;241m=\u001b[39m \u001b[38;5;28;43mself\u001b[39;49m\u001b[38;5;241;43m.\u001b[39;49m\u001b[43mcolumns\u001b[49m\u001b[38;5;241;43m.\u001b[39;49m\u001b[43mget_loc\u001b[49m\u001b[43m(\u001b[49m\u001b[43mkey\u001b[49m\u001b[43m)\u001b[49m\n\u001b[0;32m   4103\u001b[0m \u001b[38;5;28;01mif\u001b[39;00m is_integer(indexer):\n\u001b[0;32m   4104\u001b[0m     indexer \u001b[38;5;241m=\u001b[39m [indexer]\n",
      "File \u001b[1;32md:\\TEL-U\\BANGKIT!\\NARASPEAK\\virtualenvNaraSpeak\\lib\\site-packages\\pandas\\core\\indexes\\base.py:3812\u001b[0m, in \u001b[0;36mIndex.get_loc\u001b[1;34m(self, key)\u001b[0m\n\u001b[0;32m   3807\u001b[0m     \u001b[38;5;28;01mif\u001b[39;00m \u001b[38;5;28misinstance\u001b[39m(casted_key, \u001b[38;5;28mslice\u001b[39m) \u001b[38;5;129;01mor\u001b[39;00m (\n\u001b[0;32m   3808\u001b[0m         \u001b[38;5;28misinstance\u001b[39m(casted_key, abc\u001b[38;5;241m.\u001b[39mIterable)\n\u001b[0;32m   3809\u001b[0m         \u001b[38;5;129;01mand\u001b[39;00m \u001b[38;5;28many\u001b[39m(\u001b[38;5;28misinstance\u001b[39m(x, \u001b[38;5;28mslice\u001b[39m) \u001b[38;5;28;01mfor\u001b[39;00m x \u001b[38;5;129;01min\u001b[39;00m casted_key)\n\u001b[0;32m   3810\u001b[0m     ):\n\u001b[0;32m   3811\u001b[0m         \u001b[38;5;28;01mraise\u001b[39;00m InvalidIndexError(key)\n\u001b[1;32m-> 3812\u001b[0m     \u001b[38;5;28;01mraise\u001b[39;00m \u001b[38;5;167;01mKeyError\u001b[39;00m(key) \u001b[38;5;28;01mfrom\u001b[39;00m \u001b[38;5;21;01merr\u001b[39;00m\n\u001b[0;32m   3813\u001b[0m \u001b[38;5;28;01mexcept\u001b[39;00m \u001b[38;5;167;01mTypeError\u001b[39;00m:\n\u001b[0;32m   3814\u001b[0m     \u001b[38;5;66;03m# If we have a listlike key, _check_indexing_error will raise\u001b[39;00m\n\u001b[0;32m   3815\u001b[0m     \u001b[38;5;66;03m#  InvalidIndexError. Otherwise we fall through and re-raise\u001b[39;00m\n\u001b[0;32m   3816\u001b[0m     \u001b[38;5;66;03m#  the TypeError.\u001b[39;00m\n\u001b[0;32m   3817\u001b[0m     \u001b[38;5;28mself\u001b[39m\u001b[38;5;241m.\u001b[39m_check_indexing_error(key)\n",
      "\u001b[1;31mKeyError\u001b[0m: 'Incorrect'"
     ]
    }
   ],
   "source": [
    "\n",
    "# df['Incorrect'] = df['Incorrect'].progress_apply(clean)\n",
    "df['Incorrect'] = df['Incorrect'].progress_apply(expand_contractions)"
   ]
  },
  {
   "cell_type": "code",
   "execution_count": null,
   "metadata": {},
   "outputs": [
    {
     "data": {
      "text/html": [
       "<div>\n",
       "<style scoped>\n",
       "    .dataframe tbody tr th:only-of-type {\n",
       "        vertical-align: middle;\n",
       "    }\n",
       "\n",
       "    .dataframe tbody tr th {\n",
       "        vertical-align: top;\n",
       "    }\n",
       "\n",
       "    .dataframe thead th {\n",
       "        text-align: right;\n",
       "    }\n",
       "</style>\n",
       "<table border=\"1\" class=\"dataframe\">\n",
       "  <thead>\n",
       "    <tr style=\"text-align: right;\">\n",
       "      <th></th>\n",
       "      <th>incorrect</th>\n",
       "      <th>correct</th>\n",
       "      <th>correct_char_count</th>\n",
       "      <th>incorrect_char_count</th>\n",
       "      <th>correct_word_count</th>\n",
       "      <th>incorrect_word_count</th>\n",
       "    </tr>\n",
       "  </thead>\n",
       "  <tbody>\n",
       "    <tr>\n",
       "      <th>447816</th>\n",
       "      <td>Accordind to Yupik culture a Alaskan indiginou...</td>\n",
       "      <td>According to Yupik culture- an indigenous Alas...</td>\n",
       "      <td>285</td>\n",
       "      <td>279</td>\n",
       "      <td>50</td>\n",
       "      <td>48</td>\n",
       "    </tr>\n",
       "    <tr>\n",
       "      <th>154093</th>\n",
       "      <td>Pondicherry University Lawspet Pondicherry- 60...</td>\n",
       "      <td>Pondicherry University,Lawspet, Pondicherry - ...</td>\n",
       "      <td>54</td>\n",
       "      <td>55</td>\n",
       "      <td>6</td>\n",
       "      <td>7</td>\n",
       "    </tr>\n",
       "    <tr>\n",
       "      <th>181492</th>\n",
       "      <td>But relatively more important to getting somew...</td>\n",
       "      <td>But relatively more important in the socialist...</td>\n",
       "      <td>54</td>\n",
       "      <td>74</td>\n",
       "      <td>8</td>\n",
       "      <td>10</td>\n",
       "    </tr>\n",
       "    <tr>\n",
       "      <th>12722</th>\n",
       "      <td>AcQuest 1065 Solution 2010 use supporting deta...</td>\n",
       "      <td>AcQuest 1065 Solution 2010 is used for support...</td>\n",
       "      <td>71</td>\n",
       "      <td>63</td>\n",
       "      <td>10</td>\n",
       "      <td>8</td>\n",
       "    </tr>\n",
       "    <tr>\n",
       "      <th>177850</th>\n",
       "      <td>Half back: this is one of the styles allow to ...</td>\n",
       "      <td>Half back: this is one of the styles that allo...</td>\n",
       "      <td>257</td>\n",
       "      <td>251</td>\n",
       "      <td>50</td>\n",
       "      <td>49</td>\n",
       "    </tr>\n",
       "    <tr>\n",
       "      <th>304076</th>\n",
       "      <td>IBM would break to the crypto cus tody space.</td>\n",
       "      <td>IBM is coming to the crypto custody space.</td>\n",
       "      <td>42</td>\n",
       "      <td>45</td>\n",
       "      <td>8</td>\n",
       "      <td>9</td>\n",
       "    </tr>\n",
       "    <tr>\n",
       "      <th>56756</th>\n",
       "      <td>BUHARI shoutr unofficial closing at top of his...</td>\n",
       "      <td>BUHARI shouting at top of his voice during fed...</td>\n",
       "      <td>83</td>\n",
       "      <td>99</td>\n",
       "      <td>13</td>\n",
       "      <td>14</td>\n",
       "    </tr>\n",
       "    <tr>\n",
       "      <th>12686</th>\n",
       "      <td>One of the biggest things we enjoy doing is lo...</td>\n",
       "      <td>One of the biggest things we enjoy doing is lo...</td>\n",
       "      <td>277</td>\n",
       "      <td>273</td>\n",
       "      <td>53</td>\n",
       "      <td>53</td>\n",
       "    </tr>\n",
       "    <tr>\n",
       "      <th>555</th>\n",
       "      <td>latex agenda template format of meeting of res...</td>\n",
       "      <td>latex agenda template format of meeting for re...</td>\n",
       "      <td>59</td>\n",
       "      <td>58</td>\n",
       "      <td>9</td>\n",
       "      <td>9</td>\n",
       "    </tr>\n",
       "    <tr>\n",
       "      <th>55817</th>\n",
       "      <td>One of world's best undrground sites, this for...</td>\n",
       "      <td>One of the world's best underground sites, the...</td>\n",
       "      <td>131</td>\n",
       "      <td>127</td>\n",
       "      <td>24</td>\n",
       "      <td>22</td>\n",
       "    </tr>\n",
       "  </tbody>\n",
       "</table>\n",
       "</div>"
      ],
      "text/plain": [
       "                                                incorrect  \\\n",
       "447816  Accordind to Yupik culture a Alaskan indiginou...   \n",
       "154093  Pondicherry University Lawspet Pondicherry- 60...   \n",
       "181492  But relatively more important to getting somew...   \n",
       "12722   AcQuest 1065 Solution 2010 use supporting deta...   \n",
       "177850  Half back: this is one of the styles allow to ...   \n",
       "304076      IBM would break to the crypto cus tody space.   \n",
       "56756   BUHARI shoutr unofficial closing at top of his...   \n",
       "12686   One of the biggest things we enjoy doing is lo...   \n",
       "555     latex agenda template format of meeting of res...   \n",
       "55817   One of world's best undrground sites, this for...   \n",
       "\n",
       "                                                  correct  correct_char_count  \\\n",
       "447816  According to Yupik culture- an indigenous Alas...                 285   \n",
       "154093  Pondicherry University,Lawspet, Pondicherry - ...                  54   \n",
       "181492  But relatively more important in the socialist...                  54   \n",
       "12722   AcQuest 1065 Solution 2010 is used for support...                  71   \n",
       "177850  Half back: this is one of the styles that allo...                 257   \n",
       "304076         IBM is coming to the crypto custody space.                  42   \n",
       "56756   BUHARI shouting at top of his voice during fed...                  83   \n",
       "12686   One of the biggest things we enjoy doing is lo...                 277   \n",
       "555     latex agenda template format of meeting for re...                  59   \n",
       "55817   One of the world's best underground sites, the...                 131   \n",
       "\n",
       "        incorrect_char_count  correct_word_count  incorrect_word_count  \n",
       "447816                   279                  50                    48  \n",
       "154093                    55                   6                     7  \n",
       "181492                    74                   8                    10  \n",
       "12722                     63                  10                     8  \n",
       "177850                   251                  50                    49  \n",
       "304076                    45                   8                     9  \n",
       "56756                     99                  13                    14  \n",
       "12686                    273                  53                    53  \n",
       "555                       58                   9                     9  \n",
       "55817                    127                  24                    22  "
      ]
     },
     "execution_count": 112,
     "metadata": {},
     "output_type": "execute_result"
    }
   ],
   "source": [
    "df.sample(10)"
   ]
  },
  {
   "cell_type": "code",
   "execution_count": null,
   "metadata": {},
   "outputs": [],
   "source": [
    "def remove_spaces(text) : \n",
    "    text = re.sub(r\" '(\\w)\",r\"'\\1\",text)\n",
    "    text = re.sub(r\" \\,\",\",\",text)\n",
    "    text = re.sub(r\" \\.+\",\".\",text)\n",
    "    text = re.sub(r\" \\!+\",\"!\",text)\n",
    "    text = re.sub(r\" \\?+\",\"?\",text)\n",
    "    text = re.sub(\" n't\",\"n't\",text)\n",
    "    text = re.sub(\"[\\(\\)\\;\\_\\^\\`\\/]\",\"\",text)\n",
    "    \n",
    "    return text\n",
    "\n",
    "\n",
    "def decontract(text) : \n",
    "    text = re.sub(r\"won\\'t\", \"will not\", text)\n",
    "    text = re.sub(r\"can\\'t\", \"can not\", text)\n",
    "    text = re.sub(r\"n\\'t\", \" not\", text)\n",
    "    text = re.sub(r\"\\'re\", \" are\", text)\n",
    "    text = re.sub(r\"\\'s\", \" is\", text)\n",
    "    text = re.sub(r\"\\'d\", \" would\", text)\n",
    "    text = re.sub(r\"\\'ll\", \" will\", text)\n",
    "    text = re.sub(r\"\\'t\", \" not\", text)\n",
    "    text = re.sub(r\"\\'ve\", \" have\", text)\n",
    "    text = re.sub(r\"\\'m\", \" am\", text)\n",
    "    \n",
    "    return text\n",
    "\n"
   ]
  },
  {
   "cell_type": "code",
   "execution_count": null,
   "metadata": {},
   "outputs": [],
   "source": [
    "def WrongSentence_preprocessing(col) : \n",
    "    df[col] = df[col].astype(str) \n",
    "    df[col] = df[col].apply(lambda x:x.lower()) \n",
    "    df[col] = df[col].apply(lambda x : re.sub(\"\\n\",\"\",x)) \n",
    "    df[col] = df[col].apply(lambda x : remove_spaces(x)) \n",
    "    df[col] = df[col].apply(lambda x : re.sub(r\"\\.+\",\".\",x)) \n",
    "    df[col] = df[col].apply(lambda x : re.sub(r\"\\!+\",\"!\",x)) \n",
    "    df[col] = df[col].apply(lambda x : decontract(x)) \n",
    "    df[col] = df[col].apply(lambda x: re.sub(\"[^A-Za-z\\s]\",\"\",x)) \n",
    "    df[col] = df[col].apply(lambda x: x.replace(\"\\s+\",\" \"))\n",
    "    df[col] = df[col].apply(lambda x: \" \".join([word for word in x.split()]))\n",
    "    return df\n",
    "\n",
    "def TrueSentence_preprocessing(col) : \n",
    "    df[col] = df[col].astype(str) \n",
    "    df[col] = df[col].apply(lambda x:x.lower()) \n",
    "    df[col] = df[col].apply(lambda x : re.sub(\"\\n\",\"\",x)) \n",
    "    df[col] = df[col].apply(lambda x : remove_spaces(x)) \n",
    "    df[col] = df[col].apply(lambda x : re.sub(r\"\\.+\",\".\",x)) \n",
    "    df[col] = df[col].apply(lambda x : re.sub(r\"\\!+\",\"!\",x)) \n",
    "    df[col] = df[col].apply(lambda x : decontract(x)) \n",
    "    df[col] = df[col].apply(lambda x: re.sub(\"[^A-Za-z\\s]\",\"\",x)) \n",
    "    df[col] = df[col].apply(lambda x: re.sub(r'\\d','',x))\n",
    "    df[col] = df[col].apply(lambda x: re.sub(r'\\s+',' ',x))\n",
    "    df[col] = df[col].apply(lambda x: re.sub(r\"[-()\\\"#/@;:<>{}`+=~|.!?,।]\", \"\", x))\n",
    "    df[col] = df[col].apply(lambda x: x.strip())\n",
    "    # df[col] = \"<sos> \" + df[col] + \" <eos>\"\n",
    "    return df"
   ]
  },
  {
   "cell_type": "code",
   "execution_count": null,
   "metadata": {},
   "outputs": [
    {
     "ename": "KeyError",
     "evalue": "'Incorrect'",
     "output_type": "error",
     "traceback": [
      "\u001b[1;31m---------------------------------------------------------------------------\u001b[0m",
      "\u001b[1;31mKeyError\u001b[0m                                  Traceback (most recent call last)",
      "File \u001b[1;32md:\\TEL-U\\BANGKIT!\\NARASPEAK\\virtualenvNaraSpeak\\lib\\site-packages\\pandas\\core\\indexes\\base.py:3805\u001b[0m, in \u001b[0;36mIndex.get_loc\u001b[1;34m(self, key)\u001b[0m\n\u001b[0;32m   3804\u001b[0m \u001b[38;5;28;01mtry\u001b[39;00m:\n\u001b[1;32m-> 3805\u001b[0m     \u001b[38;5;28;01mreturn\u001b[39;00m \u001b[38;5;28;43mself\u001b[39;49m\u001b[38;5;241;43m.\u001b[39;49m\u001b[43m_engine\u001b[49m\u001b[38;5;241;43m.\u001b[39;49m\u001b[43mget_loc\u001b[49m\u001b[43m(\u001b[49m\u001b[43mcasted_key\u001b[49m\u001b[43m)\u001b[49m\n\u001b[0;32m   3806\u001b[0m \u001b[38;5;28;01mexcept\u001b[39;00m \u001b[38;5;167;01mKeyError\u001b[39;00m \u001b[38;5;28;01mas\u001b[39;00m err:\n",
      "File \u001b[1;32mindex.pyx:167\u001b[0m, in \u001b[0;36mpandas._libs.index.IndexEngine.get_loc\u001b[1;34m()\u001b[0m\n",
      "File \u001b[1;32mindex.pyx:196\u001b[0m, in \u001b[0;36mpandas._libs.index.IndexEngine.get_loc\u001b[1;34m()\u001b[0m\n",
      "File \u001b[1;32mpandas\\\\_libs\\\\hashtable_class_helper.pxi:7081\u001b[0m, in \u001b[0;36mpandas._libs.hashtable.PyObjectHashTable.get_item\u001b[1;34m()\u001b[0m\n",
      "File \u001b[1;32mpandas\\\\_libs\\\\hashtable_class_helper.pxi:7089\u001b[0m, in \u001b[0;36mpandas._libs.hashtable.PyObjectHashTable.get_item\u001b[1;34m()\u001b[0m\n",
      "\u001b[1;31mKeyError\u001b[0m: 'Incorrect'",
      "\nThe above exception was the direct cause of the following exception:\n",
      "\u001b[1;31mKeyError\u001b[0m                                  Traceback (most recent call last)",
      "Cell \u001b[1;32mIn[115], line 1\u001b[0m\n\u001b[1;32m----> 1\u001b[0m df \u001b[38;5;241m=\u001b[39m \u001b[43mWrongSentence_preprocessing\u001b[49m\u001b[43m(\u001b[49m\u001b[38;5;124;43m'\u001b[39;49m\u001b[38;5;124;43mIncorrect\u001b[39;49m\u001b[38;5;124;43m'\u001b[39;49m\u001b[43m)\u001b[49m \n\u001b[0;32m      2\u001b[0m df \u001b[38;5;241m=\u001b[39m TrueSentence_preprocessing(\u001b[38;5;124m'\u001b[39m\u001b[38;5;124mCorrect\u001b[39m\u001b[38;5;124m'\u001b[39m)\n",
      "Cell \u001b[1;32mIn[114], line 2\u001b[0m, in \u001b[0;36mWrongSentence_preprocessing\u001b[1;34m(col)\u001b[0m\n\u001b[0;32m      1\u001b[0m \u001b[38;5;28;01mdef\u001b[39;00m \u001b[38;5;21mWrongSentence_preprocessing\u001b[39m(col) : \n\u001b[1;32m----> 2\u001b[0m     df[col] \u001b[38;5;241m=\u001b[39m \u001b[43mdf\u001b[49m\u001b[43m[\u001b[49m\u001b[43mcol\u001b[49m\u001b[43m]\u001b[49m\u001b[38;5;241m.\u001b[39mastype(\u001b[38;5;28mstr\u001b[39m) \n\u001b[0;32m      3\u001b[0m     df[col] \u001b[38;5;241m=\u001b[39m df[col]\u001b[38;5;241m.\u001b[39mapply(\u001b[38;5;28;01mlambda\u001b[39;00m x:x\u001b[38;5;241m.\u001b[39mlower()) \n\u001b[0;32m      4\u001b[0m     df[col] \u001b[38;5;241m=\u001b[39m df[col]\u001b[38;5;241m.\u001b[39mapply(\u001b[38;5;28;01mlambda\u001b[39;00m x : re\u001b[38;5;241m.\u001b[39msub(\u001b[38;5;124m\"\u001b[39m\u001b[38;5;130;01m\\n\u001b[39;00m\u001b[38;5;124m\"\u001b[39m,\u001b[38;5;124m\"\u001b[39m\u001b[38;5;124m\"\u001b[39m,x)) \n",
      "File \u001b[1;32md:\\TEL-U\\BANGKIT!\\NARASPEAK\\virtualenvNaraSpeak\\lib\\site-packages\\pandas\\core\\frame.py:4102\u001b[0m, in \u001b[0;36mDataFrame.__getitem__\u001b[1;34m(self, key)\u001b[0m\n\u001b[0;32m   4100\u001b[0m \u001b[38;5;28;01mif\u001b[39;00m \u001b[38;5;28mself\u001b[39m\u001b[38;5;241m.\u001b[39mcolumns\u001b[38;5;241m.\u001b[39mnlevels \u001b[38;5;241m>\u001b[39m \u001b[38;5;241m1\u001b[39m:\n\u001b[0;32m   4101\u001b[0m     \u001b[38;5;28;01mreturn\u001b[39;00m \u001b[38;5;28mself\u001b[39m\u001b[38;5;241m.\u001b[39m_getitem_multilevel(key)\n\u001b[1;32m-> 4102\u001b[0m indexer \u001b[38;5;241m=\u001b[39m \u001b[38;5;28;43mself\u001b[39;49m\u001b[38;5;241;43m.\u001b[39;49m\u001b[43mcolumns\u001b[49m\u001b[38;5;241;43m.\u001b[39;49m\u001b[43mget_loc\u001b[49m\u001b[43m(\u001b[49m\u001b[43mkey\u001b[49m\u001b[43m)\u001b[49m\n\u001b[0;32m   4103\u001b[0m \u001b[38;5;28;01mif\u001b[39;00m is_integer(indexer):\n\u001b[0;32m   4104\u001b[0m     indexer \u001b[38;5;241m=\u001b[39m [indexer]\n",
      "File \u001b[1;32md:\\TEL-U\\BANGKIT!\\NARASPEAK\\virtualenvNaraSpeak\\lib\\site-packages\\pandas\\core\\indexes\\base.py:3812\u001b[0m, in \u001b[0;36mIndex.get_loc\u001b[1;34m(self, key)\u001b[0m\n\u001b[0;32m   3807\u001b[0m     \u001b[38;5;28;01mif\u001b[39;00m \u001b[38;5;28misinstance\u001b[39m(casted_key, \u001b[38;5;28mslice\u001b[39m) \u001b[38;5;129;01mor\u001b[39;00m (\n\u001b[0;32m   3808\u001b[0m         \u001b[38;5;28misinstance\u001b[39m(casted_key, abc\u001b[38;5;241m.\u001b[39mIterable)\n\u001b[0;32m   3809\u001b[0m         \u001b[38;5;129;01mand\u001b[39;00m \u001b[38;5;28many\u001b[39m(\u001b[38;5;28misinstance\u001b[39m(x, \u001b[38;5;28mslice\u001b[39m) \u001b[38;5;28;01mfor\u001b[39;00m x \u001b[38;5;129;01min\u001b[39;00m casted_key)\n\u001b[0;32m   3810\u001b[0m     ):\n\u001b[0;32m   3811\u001b[0m         \u001b[38;5;28;01mraise\u001b[39;00m InvalidIndexError(key)\n\u001b[1;32m-> 3812\u001b[0m     \u001b[38;5;28;01mraise\u001b[39;00m \u001b[38;5;167;01mKeyError\u001b[39;00m(key) \u001b[38;5;28;01mfrom\u001b[39;00m \u001b[38;5;21;01merr\u001b[39;00m\n\u001b[0;32m   3813\u001b[0m \u001b[38;5;28;01mexcept\u001b[39;00m \u001b[38;5;167;01mTypeError\u001b[39;00m:\n\u001b[0;32m   3814\u001b[0m     \u001b[38;5;66;03m# If we have a listlike key, _check_indexing_error will raise\u001b[39;00m\n\u001b[0;32m   3815\u001b[0m     \u001b[38;5;66;03m#  InvalidIndexError. Otherwise we fall through and re-raise\u001b[39;00m\n\u001b[0;32m   3816\u001b[0m     \u001b[38;5;66;03m#  the TypeError.\u001b[39;00m\n\u001b[0;32m   3817\u001b[0m     \u001b[38;5;28mself\u001b[39m\u001b[38;5;241m.\u001b[39m_check_indexing_error(key)\n",
      "\u001b[1;31mKeyError\u001b[0m: 'Incorrect'"
     ]
    }
   ],
   "source": [
    "df = WrongSentence_preprocessing('Incorrect') \n",
    "df = TrueSentence_preprocessing('Correct')"
   ]
  },
  {
   "cell_type": "code",
   "execution_count": null,
   "metadata": {},
   "outputs": [
    {
     "data": {
      "text/html": [
       "<div>\n",
       "<style scoped>\n",
       "    .dataframe tbody tr th:only-of-type {\n",
       "        vertical-align: middle;\n",
       "    }\n",
       "\n",
       "    .dataframe tbody tr th {\n",
       "        vertical-align: top;\n",
       "    }\n",
       "\n",
       "    .dataframe thead th {\n",
       "        text-align: right;\n",
       "    }\n",
       "</style>\n",
       "<table border=\"1\" class=\"dataframe\">\n",
       "  <thead>\n",
       "    <tr style=\"text-align: right;\">\n",
       "      <th></th>\n",
       "      <th>Incorrect</th>\n",
       "      <th>Correct</th>\n",
       "      <th>correct_char_count</th>\n",
       "      <th>incorrect_char_count</th>\n",
       "      <th>correct_word_count</th>\n",
       "      <th>incorrect_word_count</th>\n",
       "    </tr>\n",
       "  </thead>\n",
       "  <tbody>\n",
       "    <tr>\n",
       "      <th>357976</th>\n",
       "      <td>insert joke about this fistpumping here the th...</td>\n",
       "      <td>insert joke about fistpumping here the three s...</td>\n",
       "      <td>132</td>\n",
       "      <td>136</td>\n",
       "      <td>20</td>\n",
       "      <td>21</td>\n",
       "    </tr>\n",
       "    <tr>\n",
       "      <th>263869</th>\n",
       "      <td>us green building council usgbc has awarded le...</td>\n",
       "      <td>the us green building council usgbc has awarde...</td>\n",
       "      <td>210</td>\n",
       "      <td>206</td>\n",
       "      <td>30</td>\n",
       "      <td>30</td>\n",
       "    </tr>\n",
       "    <tr>\n",
       "      <th>225734</th>\n",
       "      <td>juanita vero of greenough is a partner in e ba...</td>\n",
       "      <td>juanita vero of greenough is a partner in e ba...</td>\n",
       "      <td>97</td>\n",
       "      <td>90</td>\n",
       "      <td>18</td>\n",
       "      <td>17</td>\n",
       "    </tr>\n",
       "    <tr>\n",
       "      <th>136123</th>\n",
       "      <td>i have tried with various forums and have foll...</td>\n",
       "      <td>i have tried various forums and have followed ...</td>\n",
       "      <td>120</td>\n",
       "      <td>120</td>\n",
       "      <td>20</td>\n",
       "      <td>21</td>\n",
       "    </tr>\n",
       "    <tr>\n",
       "      <th>70938</th>\n",
       "      <td>and roman pavlyuchenko stretched to meets a lo...</td>\n",
       "      <td>and roman pavlyuchenko stretched to meet a low...</td>\n",
       "      <td>127</td>\n",
       "      <td>126</td>\n",
       "      <td>25</td>\n",
       "      <td>25</td>\n",
       "    </tr>\n",
       "    <tr>\n",
       "      <th>189559</th>\n",
       "      <td>be aware of loose rock on top of the formation</td>\n",
       "      <td>be aware of loose rock on top of the formation</td>\n",
       "      <td>47</td>\n",
       "      <td>49</td>\n",
       "      <td>10</td>\n",
       "      <td>11</td>\n",
       "    </tr>\n",
       "    <tr>\n",
       "      <th>220069</th>\n",
       "      <td>so what is a mediana show true realy</td>\n",
       "      <td>so what is the mediana show really</td>\n",
       "      <td>36</td>\n",
       "      <td>38</td>\n",
       "      <td>7</td>\n",
       "      <td>8</td>\n",
       "    </tr>\n",
       "    <tr>\n",
       "      <th>239056</th>\n",
       "      <td>the ringleader and a crew of members of a pate...</td>\n",
       "      <td>the ringleader and a crew of members of a pate...</td>\n",
       "      <td>302</td>\n",
       "      <td>300</td>\n",
       "      <td>49</td>\n",
       "      <td>50</td>\n",
       "    </tr>\n",
       "    <tr>\n",
       "      <th>150497</th>\n",
       "      <td>the client acknowledge that all of didias inte...</td>\n",
       "      <td>the client acknowledges that all of didias int...</td>\n",
       "      <td>485</td>\n",
       "      <td>479</td>\n",
       "      <td>73</td>\n",
       "      <td>73</td>\n",
       "    </tr>\n",
       "    <tr>\n",
       "      <th>235571</th>\n",
       "      <td>from sonyas linetales at onlywords</td>\n",
       "      <td>from sonyas linetales at onlywords</td>\n",
       "      <td>40</td>\n",
       "      <td>39</td>\n",
       "      <td>5</td>\n",
       "      <td>5</td>\n",
       "    </tr>\n",
       "  </tbody>\n",
       "</table>\n",
       "</div>"
      ],
      "text/plain": [
       "                                                Incorrect  \\\n",
       "357976  insert joke about this fistpumping here the th...   \n",
       "263869  us green building council usgbc has awarded le...   \n",
       "225734  juanita vero of greenough is a partner in e ba...   \n",
       "136123  i have tried with various forums and have foll...   \n",
       "70938   and roman pavlyuchenko stretched to meets a lo...   \n",
       "189559     be aware of loose rock on top of the formation   \n",
       "220069               so what is a mediana show true realy   \n",
       "239056  the ringleader and a crew of members of a pate...   \n",
       "150497  the client acknowledge that all of didias inte...   \n",
       "235571                 from sonyas linetales at onlywords   \n",
       "\n",
       "                                                  Correct  correct_char_count  \\\n",
       "357976  insert joke about fistpumping here the three s...                 132   \n",
       "263869  the us green building council usgbc has awarde...                 210   \n",
       "225734  juanita vero of greenough is a partner in e ba...                  97   \n",
       "136123  i have tried various forums and have followed ...                 120   \n",
       "70938   and roman pavlyuchenko stretched to meet a low...                 127   \n",
       "189559     be aware of loose rock on top of the formation                  47   \n",
       "220069                 so what is the mediana show really                  36   \n",
       "239056  the ringleader and a crew of members of a pate...                 302   \n",
       "150497  the client acknowledges that all of didias int...                 485   \n",
       "235571                 from sonyas linetales at onlywords                  40   \n",
       "\n",
       "        incorrect_char_count  correct_word_count  incorrect_word_count  \n",
       "357976                   136                  20                    21  \n",
       "263869                   206                  30                    30  \n",
       "225734                    90                  18                    17  \n",
       "136123                   120                  20                    21  \n",
       "70938                    126                  25                    25  \n",
       "189559                    49                  10                    11  \n",
       "220069                    38                   7                     8  \n",
       "239056                   300                  49                    50  \n",
       "150497                   479                  73                    73  \n",
       "235571                    39                   5                     5  "
      ]
     },
     "execution_count": 84,
     "metadata": {},
     "output_type": "execute_result"
    }
   ],
   "source": [
    "df.sample(10)"
   ]
  },
  {
   "cell_type": "code",
   "execution_count": null,
   "metadata": {},
   "outputs": [],
   "source": [
    "df.to_csv('cleaned_data.csv', index=False)"
   ]
  },
  {
   "cell_type": "markdown",
   "metadata": {},
   "source": [
    "### Import Libraries and Data\n"
   ]
  },
  {
   "cell_type": "code",
   "execution_count": null,
   "metadata": {},
   "outputs": [],
   "source": [
    "\n",
    "import zipfile\n",
    "import pandas as pd\n",
    "import numpy as np\n",
    "import re\n",
    "import matplotlib.pyplot as plt\n",
    "import tensorflow as tf\n",
    "from tensorflow.keras.layers import Embedding, LSTM, Dense,RNN\n",
    "from tensorflow.keras.models import Model\n",
    "from tensorflow.keras.preprocessing.text import Tokenizer\n",
    "from tensorflow.keras.preprocessing.sequence import pad_sequences\n",
    "from tqdm import tqdm\n",
    "from sklearn.model_selection import train_test_split\n",
    "import seaborn as sns\n",
    "import os\n",
    "from datetime import datetime\n",
    "import pytz\n",
    "from tensorflow.keras.callbacks import LearningRateScheduler,TensorBoard,ReduceLROnPlateau\n",
    "from tensorflow.keras.optimizers import Adam,Nadam\n",
    "import warnings\n",
    "warnings.filterwarnings('ignore')\n",
    "import nltk.translate.bleu_score as bleu\n",
    "import random\n",
    "from tqdm import tqdm\n",
    "import shutil\n",
    "import io\n",
    "from nltk.translate.gleu_score import sentence_gleu\n",
    "import pickle\n",
    "     "
   ]
  },
  {
   "cell_type": "code",
   "execution_count": null,
   "metadata": {},
   "outputs": [],
   "source": [
    "final_df = pd.read_csv(r'D:\\TEL-U\\BANGKIT!\\NARASPEAK\\cleaned_data.csv')\n"
   ]
  },
  {
   "cell_type": "code",
   "execution_count": null,
   "metadata": {},
   "outputs": [
    {
     "data": {
      "text/plain": [
       "(158777, 6)"
      ]
     },
     "execution_count": 119,
     "metadata": {},
     "output_type": "execute_result"
    }
   ],
   "source": [
    "final_df = final_df[final_df['incorrect_word_count'] <= 12]\n",
    "final_df.shape"
   ]
  },
  {
   "cell_type": "code",
   "execution_count": null,
   "metadata": {},
   "outputs": [],
   "source": [
    "final_df = final_df[['correct','incorrect']]"
   ]
  },
  {
   "cell_type": "code",
   "execution_count": null,
   "metadata": {},
   "outputs": [
    {
     "data": {
      "text/html": [
       "<div>\n",
       "<style scoped>\n",
       "    .dataframe tbody tr th:only-of-type {\n",
       "        vertical-align: middle;\n",
       "    }\n",
       "\n",
       "    .dataframe tbody tr th {\n",
       "        vertical-align: top;\n",
       "    }\n",
       "\n",
       "    .dataframe thead th {\n",
       "        text-align: right;\n",
       "    }\n",
       "</style>\n",
       "<table border=\"1\" class=\"dataframe\">\n",
       "  <thead>\n",
       "    <tr style=\"text-align: right;\">\n",
       "      <th></th>\n",
       "      <th>correct</th>\n",
       "      <th>incorrect</th>\n",
       "    </tr>\n",
       "  </thead>\n",
       "  <tbody>\n",
       "  </tbody>\n",
       "</table>\n",
       "</div>"
      ],
      "text/plain": [
       "Empty DataFrame\n",
       "Columns: [correct, incorrect]\n",
       "Index: []"
      ]
     },
     "execution_count": 121,
     "metadata": {},
     "output_type": "execute_result"
    }
   ],
   "source": [
    "\n",
    "final_df[final_df.isna().any(axis=1)]"
   ]
  },
  {
   "cell_type": "markdown",
   "metadata": {},
   "source": [
    "### Train Test Split"
   ]
  },
  {
   "cell_type": "code",
   "execution_count": null,
   "metadata": {},
   "outputs": [
    {
     "data": {
      "image/png": "[encoded data removed]",
      "text/plain": [
       "<Figure size 1000x700 with 1 Axes>"
      ]
     },
     "metadata": {},
     "output_type": "display_data"
    }
   ],
   "source": [
    "train,test = train_test_split(final_df, test_size=0.1,random_state=15)\n",
    "train,validation = train_test_split(train, test_size=0.1)\n",
    "fig,ax = plt.subplots(figsize =(10, 7))\n",
    "labels_split = ['Train', 'Test','Validation'] \n",
    "sizes_split = [len(train),len(test),len(validation)]\n",
    "pcts_split = [f'{l} Data-{s} Points \\n({s*100/sum(sizes_split):.2f}%)' for s,l in zip(sizes_split, labels_split)] \n",
    "ax.pie(sizes_split, labels = pcts_split, startangle = 90, \n",
    "       explode=(0,0.1,0),textprops = {\"fontsize\":12} )\n",
    "\n",
    "plt.suptitle(f'Splitting of Test & Train Data ', fontsize = 15)\n",
    "plt.title(f'(No Of Data Points:{sum(sizes_split)}) ', fontsize = 12)\n",
    "plt.show()"
   ]
  },
  {
   "cell_type": "code",
   "execution_count": null,
   "metadata": {},
   "outputs": [],
   "source": [
    "train['dec_correct_inp'] = ' ' + train['correct'].astype(str)\n",
    "train['dec_correct_out'] = train['correct'].astype(str) + ' '\n",
    "\n",
    "validation['dec_correct_inp'] = ' ' + validation['correct'].astype(str)\n",
    "validation['dec_correct_out'] = validation['correct'].astype(str) + ' '\n",
    "\n",
    "test['dec_correct_inp'] = ' ' + test['correct'].astype(str)\n",
    "test['dec_correct_out'] = test['correct'].astype(str) + ' '"
   ]
  },
  {
   "cell_type": "code",
   "execution_count": null,
   "metadata": {},
   "outputs": [
    {
     "data": {
      "text/html": [
       "<div>\n",
       "<style scoped>\n",
       "    .dataframe tbody tr th:only-of-type {\n",
       "        vertical-align: middle;\n",
       "    }\n",
       "\n",
       "    .dataframe tbody tr th {\n",
       "        vertical-align: top;\n",
       "    }\n",
       "\n",
       "    .dataframe thead th {\n",
       "        text-align: right;\n",
       "    }\n",
       "</style>\n",
       "<table border=\"1\" class=\"dataframe\">\n",
       "  <thead>\n",
       "    <tr style=\"text-align: right;\">\n",
       "      <th></th>\n",
       "      <th>correct</th>\n",
       "      <th>incorrect</th>\n",
       "      <th>dec_correct_inp</th>\n",
       "      <th>dec_correct_out</th>\n",
       "    </tr>\n",
       "  </thead>\n",
       "  <tbody>\n",
       "    <tr>\n",
       "      <th>218052</th>\n",
       "      <td>savvylabell, Skylycat and IridescentOwl like t...</td>\n",
       "      <td>savvylabell, Skylycat and I,ridescentOwl like ...</td>\n",
       "      <td>savvylabell, Skylycat and IridescentOwl like ...</td>\n",
       "      <td>savvylabell, Skylycat and IridescentOwl like t...</td>\n",
       "    </tr>\n",
       "    <tr>\n",
       "      <th>150436</th>\n",
       "      <td>Mainly used for a garden bed topping.</td>\n",
       "      <td>And today it used for a garden bed topping</td>\n",
       "      <td>Mainly used for a garden bed topping.</td>\n",
       "      <td>Mainly used for a garden bed topping.</td>\n",
       "    </tr>\n",
       "    <tr>\n",
       "      <th>52209</th>\n",
       "      <td>This Beautuful Garnet mineral stone formed int...</td>\n",
       "      <td>This Beautuful Garnet mineral stone for a sphe...</td>\n",
       "      <td>This Beautuful Garnet mineral stone formed in...</td>\n",
       "      <td>This Beautuful Garnet mineral stone formed int...</td>\n",
       "    </tr>\n",
       "    <tr>\n",
       "      <th>368864</th>\n",
       "      <td>SiteRanking.com - provides a categorized direc...</td>\n",
       "      <td>SiteRanking.com it - has a categorized directo...</td>\n",
       "      <td>SiteRanking.com - provides a categorized dire...</td>\n",
       "      <td>SiteRanking.com - provides a categorized direc...</td>\n",
       "    </tr>\n",
       "    <tr>\n",
       "      <th>204063</th>\n",
       "      <td>Shine Your Light Forth in Clarity!</td>\n",
       "      <td>Shne Your Light Forth in Clarity!</td>\n",
       "      <td>Shine Your Light Forth in Clarity!</td>\n",
       "      <td>Shine Your Light Forth in Clarity!</td>\n",
       "    </tr>\n",
       "  </tbody>\n",
       "</table>\n",
       "</div>"
      ],
      "text/plain": [
       "                                                  correct  \\\n",
       "218052  savvylabell, Skylycat and IridescentOwl like t...   \n",
       "150436              Mainly used for a garden bed topping.   \n",
       "52209   This Beautuful Garnet mineral stone formed int...   \n",
       "368864  SiteRanking.com - provides a categorized direc...   \n",
       "204063                 Shine Your Light Forth in Clarity!   \n",
       "\n",
       "                                                incorrect  \\\n",
       "218052  savvylabell, Skylycat and I,ridescentOwl like ...   \n",
       "150436         And today it used for a garden bed topping   \n",
       "52209   This Beautuful Garnet mineral stone for a sphe...   \n",
       "368864  SiteRanking.com it - has a categorized directo...   \n",
       "204063                  Shne Your Light Forth in Clarity!   \n",
       "\n",
       "                                          dec_correct_inp  \\\n",
       "218052   savvylabell, Skylycat and IridescentOwl like ...   \n",
       "150436              Mainly used for a garden bed topping.   \n",
       "52209    This Beautuful Garnet mineral stone formed in...   \n",
       "368864   SiteRanking.com - provides a categorized dire...   \n",
       "204063                 Shine Your Light Forth in Clarity!   \n",
       "\n",
       "                                          dec_correct_out  \n",
       "218052  savvylabell, Skylycat and IridescentOwl like t...  \n",
       "150436             Mainly used for a garden bed topping.   \n",
       "52209   This Beautuful Garnet mineral stone formed int...  \n",
       "368864  SiteRanking.com - provides a categorized direc...  \n",
       "204063                Shine Your Light Forth in Clarity!   "
      ]
     },
     "execution_count": 124,
     "metadata": {},
     "output_type": "execute_result"
    }
   ],
   "source": [
    "train.sample(5)"
   ]
  },
  {
   "cell_type": "code",
   "execution_count": null,
   "metadata": {},
   "outputs": [
    {
     "data": {
      "text/html": [
       "<div>\n",
       "<style scoped>\n",
       "    .dataframe tbody tr th:only-of-type {\n",
       "        vertical-align: middle;\n",
       "    }\n",
       "\n",
       "    .dataframe tbody tr th {\n",
       "        vertical-align: top;\n",
       "    }\n",
       "\n",
       "    .dataframe thead th {\n",
       "        text-align: right;\n",
       "    }\n",
       "</style>\n",
       "<table border=\"1\" class=\"dataframe\">\n",
       "  <thead>\n",
       "    <tr style=\"text-align: right;\">\n",
       "      <th></th>\n",
       "      <th>correct</th>\n",
       "      <th>incorrect</th>\n",
       "      <th>dec_correct_inp</th>\n",
       "      <th>dec_correct_out</th>\n",
       "    </tr>\n",
       "  </thead>\n",
       "  <tbody>\n",
       "    <tr>\n",
       "      <th>156122</th>\n",
       "      <td>What we forgive too freely doesn’t stay forgiven.</td>\n",
       "      <td>What we forbid too freely do’t remain forgiven.</td>\n",
       "      <td>What we forgive too freely doesn’t stay forgi...</td>\n",
       "      <td>What we forgive too freely doesn’t stay forgiv...</td>\n",
       "    </tr>\n",
       "    <tr>\n",
       "      <th>231642</th>\n",
       "      <td>Only 514 people have been in space.</td>\n",
       "      <td>Only 514 people have trans space.</td>\n",
       "      <td>Only 514 people have been in space.</td>\n",
       "      <td>Only 514 people have been in space.</td>\n",
       "    </tr>\n",
       "    <tr>\n",
       "      <th>220279</th>\n",
       "      <td>Houston resident Veon McReynolds rides his bic...</td>\n",
       "      <td>Houston resident Veon McReynolds rides his bic...</td>\n",
       "      <td>Houston resident Veon McReynolds rides his bi...</td>\n",
       "      <td>Houston resident Veon McReynolds rides his bic...</td>\n",
       "    </tr>\n",
       "    <tr>\n",
       "      <th>138214</th>\n",
       "      <td>are assembled using verbs: bill-to, ship-to, a...</td>\n",
       "      <td>assemble them using verbs; bill-to, ship-to an...</td>\n",
       "      <td>are assembled using verbs: bill-to, ship-to, ...</td>\n",
       "      <td>are assembled using verbs: bill-to, ship-to, a...</td>\n",
       "    </tr>\n",
       "    <tr>\n",
       "      <th>284944</th>\n",
       "      <td>Are you moving to a new city in Texas?</td>\n",
       "      <td>Are you moving in a new city in Texas?</td>\n",
       "      <td>Are you moving to a new city in Texas?</td>\n",
       "      <td>Are you moving to a new city in Texas?</td>\n",
       "    </tr>\n",
       "  </tbody>\n",
       "</table>\n",
       "</div>"
      ],
      "text/plain": [
       "                                                  correct  \\\n",
       "156122  What we forgive too freely doesn’t stay forgiven.   \n",
       "231642                Only 514 people have been in space.   \n",
       "220279  Houston resident Veon McReynolds rides his bic...   \n",
       "138214  are assembled using verbs: bill-to, ship-to, a...   \n",
       "284944             Are you moving to a new city in Texas?   \n",
       "\n",
       "                                                incorrect  \\\n",
       "156122    What we forbid too freely do’t remain forgiven.   \n",
       "231642                  Only 514 people have trans space.   \n",
       "220279  Houston resident Veon McReynolds rides his bic...   \n",
       "138214  assemble them using verbs; bill-to, ship-to an...   \n",
       "284944             Are you moving in a new city in Texas?   \n",
       "\n",
       "                                          dec_correct_inp  \\\n",
       "156122   What we forgive too freely doesn’t stay forgi...   \n",
       "231642                Only 514 people have been in space.   \n",
       "220279   Houston resident Veon McReynolds rides his bi...   \n",
       "138214   are assembled using verbs: bill-to, ship-to, ...   \n",
       "284944             Are you moving to a new city in Texas?   \n",
       "\n",
       "                                          dec_correct_out  \n",
       "156122  What we forgive too freely doesn’t stay forgiv...  \n",
       "231642               Only 514 people have been in space.   \n",
       "220279  Houston resident Veon McReynolds rides his bic...  \n",
       "138214  are assembled using verbs: bill-to, ship-to, a...  \n",
       "284944            Are you moving to a new city in Texas?   "
      ]
     },
     "execution_count": 125,
     "metadata": {},
     "output_type": "execute_result"
    }
   ],
   "source": [
    "test.sample(5)"
   ]
  },
  {
   "cell_type": "code",
   "execution_count": null,
   "metadata": {},
   "outputs": [
    {
     "data": {
      "text/html": [
       "<div>\n",
       "<style scoped>\n",
       "    .dataframe tbody tr th:only-of-type {\n",
       "        vertical-align: middle;\n",
       "    }\n",
       "\n",
       "    .dataframe tbody tr th {\n",
       "        vertical-align: top;\n",
       "    }\n",
       "\n",
       "    .dataframe thead th {\n",
       "        text-align: right;\n",
       "    }\n",
       "</style>\n",
       "<table border=\"1\" class=\"dataframe\">\n",
       "  <thead>\n",
       "    <tr style=\"text-align: right;\">\n",
       "      <th></th>\n",
       "      <th>correct</th>\n",
       "      <th>incorrect</th>\n",
       "      <th>dec_correct_inp</th>\n",
       "      <th>dec_correct_out</th>\n",
       "    </tr>\n",
       "  </thead>\n",
       "  <tbody>\n",
       "    <tr>\n",
       "      <th>308794</th>\n",
       "      <td>Can I sue for more than the defendant’s insura...</td>\n",
       "      <td>Can I sue more than the defendants’s insurance...</td>\n",
       "      <td>Can I sue for more than the defendant’s insur...</td>\n",
       "      <td>Can I sue for more than the defendant’s insura...</td>\n",
       "    </tr>\n",
       "    <tr>\n",
       "      <th>268763</th>\n",
       "      <td>What reports can I view?</td>\n",
       "      <td>Where can I view firm?</td>\n",
       "      <td>What reports can I view?</td>\n",
       "      <td>What reports can I view?</td>\n",
       "    </tr>\n",
       "    <tr>\n",
       "      <th>342990</th>\n",
       "      <td>This page was generated in 0.5117 seconds.</td>\n",
       "      <td>This page were generated in 0.5117 second.</td>\n",
       "      <td>This page was generated in 0.5117 seconds.</td>\n",
       "      <td>This page was generated in 0.5117 seconds.</td>\n",
       "    </tr>\n",
       "    <tr>\n",
       "      <th>459147</th>\n",
       "      <td>How to get diagnosed by a “chiropractor” for F...</td>\n",
       "      <td>How get're diagnosed by a “chiropractor” for F...</td>\n",
       "      <td>How to get diagnosed by a “chiropractor” for ...</td>\n",
       "      <td>How to get diagnosed by a “chiropractor” for F...</td>\n",
       "    </tr>\n",
       "    <tr>\n",
       "      <th>276846</th>\n",
       "      <td>Stanford Way Care Home facility service is for...</td>\n",
       "      <td>Stanford Way Care Home facility service is pro...</td>\n",
       "      <td>Stanford Way Care Home facility service is fo...</td>\n",
       "      <td>Stanford Way Care Home facility service is for...</td>\n",
       "    </tr>\n",
       "  </tbody>\n",
       "</table>\n",
       "</div>"
      ],
      "text/plain": [
       "                                                  correct  \\\n",
       "308794  Can I sue for more than the defendant’s insura...   \n",
       "268763                           What reports can I view?   \n",
       "342990         This page was generated in 0.5117 seconds.   \n",
       "459147  How to get diagnosed by a “chiropractor” for F...   \n",
       "276846  Stanford Way Care Home facility service is for...   \n",
       "\n",
       "                                                incorrect  \\\n",
       "308794  Can I sue more than the defendants’s insurance...   \n",
       "268763                             Where can I view firm?   \n",
       "342990         This page were generated in 0.5117 second.   \n",
       "459147  How get're diagnosed by a “chiropractor” for F...   \n",
       "276846  Stanford Way Care Home facility service is pro...   \n",
       "\n",
       "                                          dec_correct_inp  \\\n",
       "308794   Can I sue for more than the defendant’s insur...   \n",
       "268763                           What reports can I view?   \n",
       "342990         This page was generated in 0.5117 seconds.   \n",
       "459147   How to get diagnosed by a “chiropractor” for ...   \n",
       "276846   Stanford Way Care Home facility service is fo...   \n",
       "\n",
       "                                          dec_correct_out  \n",
       "308794  Can I sue for more than the defendant’s insura...  \n",
       "268763                          What reports can I view?   \n",
       "342990        This page was generated in 0.5117 seconds.   \n",
       "459147  How to get diagnosed by a “chiropractor” for F...  \n",
       "276846  Stanford Way Care Home facility service is for...  "
      ]
     },
     "execution_count": 126,
     "metadata": {},
     "output_type": "execute_result"
    }
   ],
   "source": [
    "\n",
    "validation.sample(5)"
   ]
  },
  {
   "cell_type": "code",
   "execution_count": null,
   "metadata": {},
   "outputs": [],
   "source": [
    "train.to_csv(r'D:\\TEL-U\\BANGKIT!\\NARASPEAK\\train.csv')\n",
    "validation.to_csv(r'D:\\TEL-U\\BANGKIT!\\NARASPEAK\\validation.csv')\n",
    "test.to_csv(r'D:\\TEL-U\\BANGKIT!\\NARASPEAK\\test.csv')"
   ]
  },
  {
   "cell_type": "code",
   "execution_count": null,
   "metadata": {},
   "outputs": [],
   "source": [
    "tokenizer_enc = Tokenizer(filters='#$%&()*+/=?@[\\]^_`{|}~\\t\\n',lower=False)\n",
    "tokenizer_enc.fit_on_texts(train['incorrect'].astype(str).values)"
   ]
  },
  {
   "cell_type": "code",
   "execution_count": null,
   "metadata": {},
   "outputs": [],
   "source": [
    "tokenizer_dec = Tokenizer(filters='#$%&()*+/=?@[\\]^_`{|}~\\t\\n',lower=False)\n",
    "tokenizer_dec.fit_on_texts(train['dec_correct_inp'].astype(str).values)"
   ]
  },
  {
   "cell_type": "code",
   "execution_count": null,
   "metadata": {},
   "outputs": [
    {
     "name": "stdout",
     "output_type": "stream",
     "text": [
      "Encoder words vocab size: 197778\n"
     ]
    }
   ],
   "source": [
    "\n",
    "vocab_size_enc=len(tokenizer_enc.word_index.keys())\n",
    "print('Encoder words vocab size:',vocab_size_enc)"
   ]
  },
  {
   "cell_type": "code",
   "execution_count": null,
   "metadata": {},
   "outputs": [
    {
     "name": "stdout",
     "output_type": "stream",
     "text": [
      "Decoder words vocab size:: 166587\n"
     ]
    }
   ],
   "source": [
    "vocab_size_dec=len(tokenizer_dec.word_index.keys())\n",
    "print('Decoder words vocab size::',vocab_size_dec)"
   ]
  },
  {
   "cell_type": "markdown",
   "metadata": {},
   "source": [
    "### Tokenizer"
   ]
  },
  {
   "cell_type": "code",
   "execution_count": null,
   "metadata": {},
   "outputs": [
    {
     "data": {
      "text/plain": [
       "(166590, 166590)"
      ]
     },
     "execution_count": 144,
     "metadata": {},
     "output_type": "execute_result"
    }
   ],
   "source": [
    "tokenizer_dec.word_index[''],tokenizer_dec.word_index.get('', None)\n",
    "\n"
   ]
  },
  {
   "cell_type": "code",
   "execution_count": null,
   "metadata": {},
   "outputs": [],
   "source": [
    "# tokenizer_dec.word_index[''] = max(tokenizer_dec.word_index.values()) + 1\n",
    "\n",
    "tokenizer_dec.word_index[''] = max(tokenizer_dec.word_index.values()) + 1\n",
    "# word_index = tokenizer_dec.word_index\n",
    "# reverse_word_index = {value: key for key, value in tokenizer_dec.word_index.items()}  # Create reverse_word_index if needed\n",
    "\n",
    "# print(word_index)  # Print to check keys and values\n",
    "# print(reverse_word_index)  # Print to check keys and values"
   ]
  },
  {
   "cell_type": "code",
   "execution_count": null,
   "metadata": {},
   "outputs": [],
   "source": [
    "with open ('/TEL-U/BANGKIT!/NARASPEAK/tokenizer_enc.pkl', 'wb') as f:\n",
    "  pickle.dump(tokenizer_enc, f)\n",
    "\n",
    "with open('/TEL-U/BANGKIT!/NARASPEAK/tokenizer_dec.pkl', 'wb') as f:\n",
    "  pickle.dump(tokenizer_dec, f)"
   ]
  },
  {
   "cell_type": "code",
   "execution_count": null,
   "metadata": {},
   "outputs": [
    {
     "name": "stdout",
     "output_type": "stream",
     "text": [
      "Encoder words vocab size: 197778\n",
      "Decoder words vocab size:: 166586\n"
     ]
    }
   ],
   "source": [
    "# Tokenization\n",
    "tokenizer_enc = Tokenizer(filters='#$%&()*+/=?@[\\]^_`{|}~\\t\\n', lower=False)\n",
    "tokenizer_enc.fit_on_texts(train['incorrect'].astype(str).values)\n",
    "tokenizer_dec = Tokenizer(filters='#$%&()*+/=?@[\\]^_`{|}~\\t\\n', lower=False)\n",
    "tokenizer_dec.fit_on_texts(train['dec_correct_inp'].astype(str).values)\n",
    "\n",
    "# Vocabulary sizes\n",
    "vocab_size_enc = len(tokenizer_enc.word_index.keys())\n",
    "print('Encoder words vocab size:', vocab_size_enc)\n",
    "vocab_size_dec = len(tokenizer_dec.word_index.keys())\n",
    "print('Decoder words vocab size::', vocab_size_dec)\n",
    "\n",
    "# Handling the empty string key\n",
    "if '' not in tokenizer_dec.word_index:\n",
    "    tokenizer_dec.word_index[''] = max(tokenizer_dec.word_index.values()) + 1\n",
    "\n",
    "# text2seq\n",
    "train_enc_inp = tokenizer_enc.texts_to_sequences(train['incorrect'].astype(str).values)\n",
    "validation_enc_inp = tokenizer_enc.texts_to_sequences(validation['incorrect'].astype(str).values)\n",
    "test_enc_inp = tokenizer_enc.texts_to_sequences(test['incorrect'].astype(str).values)\n",
    "\n",
    "# Padding\n",
    "max_seq_len = 12\n",
    "train_enc_inp = pad_sequences(train_enc_inp, maxlen=max_seq_len, padding='post', truncating='post')\n",
    "validation_enc_inp = pad_sequences(validation_enc_inp, maxlen=max_seq_len, padding='post', truncating='post')\n",
    "\n",
    "# text2seq for decoder input\n",
    "train_dec_inp = tokenizer_dec.texts_to_sequences(train['dec_correct_inp'].astype(str).values)\n",
    "validation_dec_inp = tokenizer_dec.texts_to_sequences(validation['dec_correct_inp'].astype(str).values)\n",
    "\n",
    "# Padding for decoder input\n",
    "train_dec_inp = pad_sequences(train_dec_inp, maxlen=max_seq_len+1, padding='post', truncating='post')\n",
    "validation_dec_inp = pad_sequences(validation_dec_inp, maxlen=max_seq_len+1, padding='post', truncating='post')\n",
    "\n",
    "# text2seq for decoder output\n",
    "train_dec_out = tokenizer_dec.texts_to_sequences(train['dec_correct_out'].astype(str).values)\n",
    "validation_dec_out = tokenizer_dec.texts_to_sequences(validation['dec_correct_out'].astype(str).values)\n",
    "\n",
    "# Padding for decoder output\n",
    "train_dec_out = pad_sequences(train_dec_out, maxlen=max_seq_len+1, padding='post', truncating='post')\n",
    "validation_dec_out = pad_sequences(validation_dec_out, maxlen=max_seq_len+1, padding='post', truncating='post')\n",
    "\n"
   ]
  },
  {
   "cell_type": "markdown",
   "metadata": {},
   "source": [
    "### Text to Sequence"
   ]
  },
  {
   "cell_type": "code",
   "execution_count": null,
   "metadata": {},
   "outputs": [
    {
     "name": "stdout",
     "output_type": "stream",
     "text": [
      "Mean Word Count:8.610890373146514\n"
     ]
    },
    {
     "data": {
      "image/png": "[encoded data removed]",
      "text/plain": [
       "<Figure size 1300x600 with 1 Axes>"
      ]
     },
     "metadata": {},
     "output_type": "display_data"
    }
   ],
   "source": [
    "content=train['incorrect'].astype('str')\n",
    "content_word_count=[len(content.iloc[i].split()) for i in range(len(content))]\n",
    "mean_word_count=np.mean(content_word_count)\n",
    "print(f'Mean Word Count:{mean_word_count}')\n",
    "index=[i for i in range(0,len(content_word_count))]\n",
    "fig, ax=plt.subplots(figsize=(13, 6))\n",
    "plt.plot(index,sorted(content_word_count))\n",
    "plt.grid()\n",
    "plt.title(\"Wordcount distribution\")\n",
    "plt.ylabel(\"Word Count\")\n",
    "plt.show()"
   ]
  },
  {
   "cell_type": "code",
   "execution_count": null,
   "metadata": {},
   "outputs": [],
   "source": [
    "\n",
    "#text2seq\n",
    "train_enc_inp = tokenizer_enc.texts_to_sequences(train['incorrect'].astype(str).values)\n",
    "validation_enc_inp = tokenizer_enc.texts_to_sequences(validation['incorrect'].astype(str).values)\n",
    "test_enc_inp = tokenizer_enc.texts_to_sequences(test['incorrect'].astype(str).values)\n",
    "\n",
    "#padding\n",
    "max_seq_len = 12\n",
    "train_enc_inp = pad_sequences(train_enc_inp, maxlen=max_seq_len, padding='post', truncating='post')\n",
    "validation_enc_inp = pad_sequences(validation_enc_inp, maxlen=max_seq_len, padding='post', truncating='post')\n",
    "test_enc_inp = pad_sequences(test_enc_inp, maxlen=max_seq_len, padding='post', truncating='post')\n",
    "     "
   ]
  },
  {
   "cell_type": "code",
   "execution_count": null,
   "metadata": {},
   "outputs": [],
   "source": [
    "#text2seq\n",
    "train_dec_inp = tokenizer_dec.texts_to_sequences(train['dec_correct_inp'].astype(str).values)\n",
    "validation_dec_inp = tokenizer_dec.texts_to_sequences(validation['dec_correct_inp'].astype(str).values)\n",
    "test_dec_inp = tokenizer_dec.texts_to_sequences(test['dec_correct_inp'].astype(str).values)\n",
    "\n",
    "#padding\n",
    "train_dec_inp = pad_sequences(train_dec_inp, maxlen=max_seq_len+1, padding='post', truncating='post')\n",
    "validation_dec_inp = pad_sequences(validation_dec_inp, maxlen=max_seq_len+1, padding='post', truncating='post')\n",
    "test_dec_inp = pad_sequences(test_dec_inp, maxlen=max_seq_len+1, padding='post', truncating='post')\n",
    "     "
   ]
  },
  {
   "cell_type": "code",
   "execution_count": null,
   "metadata": {},
   "outputs": [],
   "source": [
    "\n",
    "#text2seq\n",
    "train_dec_out = tokenizer_dec.texts_to_sequences(train['dec_correct_out'].astype(str).values)\n",
    "validation_dec_out = tokenizer_dec.texts_to_sequences(validation['dec_correct_out'].astype(str).values)\n",
    "test_dec_out = tokenizer_dec.texts_to_sequences(test['dec_correct_out'].astype(str).values)\n",
    "\n",
    "#padding\n",
    "train_dec_out = pad_sequences(train_dec_out, maxlen=max_seq_len+1, padding='post', truncating='post')\n",
    "validation_dec_out = pad_sequences(validation_dec_out, maxlen=max_seq_len+1, padding='post', truncating='post')\n",
    "test_dec_out = pad_sequences(test_dec_out, maxlen=max_seq_len+1, padding='post', truncating='post')"
   ]
  },
  {
   "cell_type": "code",
   "execution_count": null,
   "metadata": {},
   "outputs": [],
   "source": [
    "with open('/TEL-U/BANGKIT!/NARASPEAK/train_enc_inp.pkl', 'wb') as f:\n",
    "  pickle.dump(train_enc_inp, f)\n",
    "\n",
    "with open('/TEL-U/BANGKIT!/NARASPEAK/val_enc_inp.pkl', 'wb') as f:\n",
    "  pickle.dump(validation_enc_inp, f)\n",
    "\n",
    "with open('/TEL-U/BANGKIT!/NARASPEAK/test_enc_inp.pkl', 'wb') as f:\n",
    "  pickle.dump(test_enc_inp, f)"
   ]
  },
  {
   "cell_type": "code",
   "execution_count": null,
   "metadata": {},
   "outputs": [],
   "source": [
    "\n",
    "with open('/TEL-U/BANGKIT!/NARASPEAK/train_dec_inp.pkl', 'wb') as f:\n",
    "  pickle.dump(train_dec_inp, f)\n",
    "\n",
    "with open('/TEL-U/BANGKIT!/NARASPEAK/val_dec_inp.pkl', 'wb') as f:\n",
    "  pickle.dump(validation_dec_inp, f)\n",
    "\n",
    "with open('/TEL-U/BANGKIT!/NARASPEAK/test_dec_inp.pkl', 'wb') as f:\n",
    "  pickle.dump(test_dec_inp, f)"
   ]
  },
  {
   "cell_type": "code",
   "execution_count": null,
   "metadata": {},
   "outputs": [],
   "source": [
    "\n",
    "with open('/TEL-U/BANGKIT!/NARASPEAK/train_dec_out.pkl', 'wb') as f:\n",
    "  pickle.dump(train_dec_out, f)\n",
    "\n",
    "with open('/TEL-U/BANGKIT!/NARASPEAK/val_dec_out.pkl', 'wb') as f:\n",
    "  pickle.dump(validation_dec_out, f)\n",
    "\n",
    "with open('/TEL-U/BANGKIT!/NARASPEAK/test_dec_out.pkl', 'wb') as f:\n",
    "  pickle.dump(test_dec_out, f)\n",
    "     "
   ]
  },
  {
   "cell_type": "code",
   "execution_count": null,
   "metadata": {},
   "outputs": [],
   "source": []
  }
 ],
 "metadata": {
  "kernelspec": {
   "display_name": "virtualenvNaraSpeak",
   "language": "python",
   "name": "python3"
  },
  "language_info": {
   "codemirror_mode": {
    "name": "ipython",
    "version": 3
   },
   "file_extension": ".py",
   "mimetype": "text/x-python",
   "name": "python",
   "nbconvert_exporter": "python",
   "pygments_lexer": "ipython3",
   "version": "3.10.11"
  }
 },
 "nbformat": 4,
 "nbformat_minor": 2
}
